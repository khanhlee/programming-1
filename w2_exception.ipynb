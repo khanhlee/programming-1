{
  "nbformat": 4,
  "nbformat_minor": 0,
  "metadata": {
    "colab": {
      "name": "w2_exception.ipynb",
      "provenance": []
    },
    "kernelspec": {
      "name": "python3",
      "display_name": "Python 3"
    }
  },
  "cells": [
    {
      "cell_type": "code",
      "metadata": {
        "id": "qDYL0zhfHH0e",
        "outputId": "9318be1c-0294-4230-d818-41a2ca6aa0f4",
        "colab": {
          "base_uri": "https://localhost:8080/",
          "height": 132
        }
      },
      "source": [
        "# The difference between Syntax Error and Exceptions\n",
        "# initialize the amount variable \n",
        "amount = 10000\n",
        "\n",
        "# check that You are eligible to \n",
        "# purchase Dsa Self Paced or not \n",
        "if(amount>2999) \n",
        "\tprint(\"You are eligible to purchase Dsa Self Paced\") \n"
      ],
      "execution_count": null,
      "outputs": [
        {
          "output_type": "error",
          "ename": "SyntaxError",
          "evalue": "ignored",
          "traceback": [
            "\u001b[0;36m  File \u001b[0;32m\"<ipython-input-1-d81dd237f8ff>\"\u001b[0;36m, line \u001b[0;32m7\u001b[0m\n\u001b[0;31m    if(amount>2999)\u001b[0m\n\u001b[0m                    ^\u001b[0m\n\u001b[0;31mSyntaxError\u001b[0m\u001b[0;31m:\u001b[0m invalid syntax\n"
          ]
        }
      ]
    },
    {
      "cell_type": "code",
      "metadata": {
        "id": "qfW4m7QiIhII",
        "outputId": "62e7111a-4fd9-4327-ac1d-1fa3ee47b9c5",
        "colab": {
          "base_uri": "https://localhost:8080/",
          "height": 221
        }
      },
      "source": [
        "# initialize the amount variable \n",
        "marks = 10000\n",
        "\n",
        "# perform division with 0 \n",
        "a = marks / 0\n",
        "print(a) "
      ],
      "execution_count": null,
      "outputs": [
        {
          "output_type": "error",
          "ename": "ZeroDivisionError",
          "evalue": "ignored",
          "traceback": [
            "\u001b[0;31m---------------------------------------------------------------------------\u001b[0m",
            "\u001b[0;31mZeroDivisionError\u001b[0m                         Traceback (most recent call last)",
            "\u001b[0;32m<ipython-input-2-88fdb464b483>\u001b[0m in \u001b[0;36m<module>\u001b[0;34m()\u001b[0m\n\u001b[1;32m      3\u001b[0m \u001b[0;34m\u001b[0m\u001b[0m\n\u001b[1;32m      4\u001b[0m \u001b[0;31m# perform division with 0\u001b[0m\u001b[0;34m\u001b[0m\u001b[0;34m\u001b[0m\u001b[0;34m\u001b[0m\u001b[0m\n\u001b[0;32m----> 5\u001b[0;31m \u001b[0ma\u001b[0m \u001b[0;34m=\u001b[0m \u001b[0mmarks\u001b[0m \u001b[0;34m/\u001b[0m \u001b[0;36m0\u001b[0m\u001b[0;34m\u001b[0m\u001b[0;34m\u001b[0m\u001b[0m\n\u001b[0m\u001b[1;32m      6\u001b[0m \u001b[0mprint\u001b[0m\u001b[0;34m(\u001b[0m\u001b[0ma\u001b[0m\u001b[0;34m)\u001b[0m\u001b[0;34m\u001b[0m\u001b[0;34m\u001b[0m\u001b[0m\n",
            "\u001b[0;31mZeroDivisionError\u001b[0m: division by zero"
          ]
        }
      ]
    },
    {
      "cell_type": "markdown",
      "metadata": {
        "id": "jRrYn6WwJBHf"
      },
      "source": [
        "### Try and Except in Exception Handling"
      ]
    },
    {
      "cell_type": "markdown",
      "metadata": {
        "id": "Ym0Sn6X1JTEO"
      },
      "source": [
        "Let us try to access the array element whose index is out of bound and handle the corresponding exception."
      ]
    },
    {
      "cell_type": "code",
      "metadata": {
        "id": "xnGeXMOVJlDB",
        "outputId": "1fa46ee6-4380-4b40-cd5d-8c80e608386c",
        "colab": {
          "base_uri": "https://localhost:8080/",
          "height": 238
        }
      },
      "source": [
        "a = [0,1,2]\n",
        "\n",
        "print('First element: ', a[0])\n",
        "print('Third element: ', a[2])\n",
        "print('First element: ', a[3])"
      ],
      "execution_count": null,
      "outputs": [
        {
          "output_type": "stream",
          "text": [
            "First element:  0\n",
            "Third element:  2\n"
          ],
          "name": "stdout"
        },
        {
          "output_type": "error",
          "ename": "IndexError",
          "evalue": "ignored",
          "traceback": [
            "\u001b[0;31m---------------------------------------------------------------------------\u001b[0m",
            "\u001b[0;31mIndexError\u001b[0m                                Traceback (most recent call last)",
            "\u001b[0;32m<ipython-input-5-795a438ff0b2>\u001b[0m in \u001b[0;36m<module>\u001b[0;34m()\u001b[0m\n\u001b[1;32m      3\u001b[0m \u001b[0mprint\u001b[0m\u001b[0;34m(\u001b[0m\u001b[0;34m'First element: '\u001b[0m\u001b[0;34m,\u001b[0m \u001b[0ma\u001b[0m\u001b[0;34m[\u001b[0m\u001b[0;36m0\u001b[0m\u001b[0;34m]\u001b[0m\u001b[0;34m)\u001b[0m\u001b[0;34m\u001b[0m\u001b[0;34m\u001b[0m\u001b[0m\n\u001b[1;32m      4\u001b[0m \u001b[0mprint\u001b[0m\u001b[0;34m(\u001b[0m\u001b[0;34m'Third element: '\u001b[0m\u001b[0;34m,\u001b[0m \u001b[0ma\u001b[0m\u001b[0;34m[\u001b[0m\u001b[0;36m2\u001b[0m\u001b[0;34m]\u001b[0m\u001b[0;34m)\u001b[0m\u001b[0;34m\u001b[0m\u001b[0;34m\u001b[0m\u001b[0m\n\u001b[0;32m----> 5\u001b[0;31m \u001b[0mprint\u001b[0m\u001b[0;34m(\u001b[0m\u001b[0;34m'First element: '\u001b[0m\u001b[0;34m,\u001b[0m \u001b[0ma\u001b[0m\u001b[0;34m[\u001b[0m\u001b[0;36m3\u001b[0m\u001b[0;34m]\u001b[0m\u001b[0;34m)\u001b[0m\u001b[0;34m\u001b[0m\u001b[0;34m\u001b[0m\u001b[0m\n\u001b[0m",
            "\u001b[0;31mIndexError\u001b[0m: list index out of range"
          ]
        }
      ]
    },
    {
      "cell_type": "code",
      "metadata": {
        "id": "0UrT4ybhJCsU",
        "outputId": "8462939c-8a32-4020-e1df-83711c8c4f7c",
        "colab": {
          "base_uri": "https://localhost:8080/",
          "height": 52
        }
      },
      "source": [
        "# Python program to handle simple runtime error \n",
        "\n",
        "a = [1, 2, 3] \n",
        "try: \n",
        "\tprint(\"Second element = %d\" %(a[1]))\n",
        "\n",
        "\t# Throws error since there are only 3 elements in array \n",
        "\tprint(\"Fourth element = %d\" %(a[3]))\n",
        "\n",
        "except IndexError: \n",
        "\tprint(\"An error occurred\")"
      ],
      "execution_count": null,
      "outputs": [
        {
          "output_type": "stream",
          "text": [
            "Second element = 2\n",
            "An error occurred\n"
          ],
          "name": "stdout"
        }
      ]
    },
    {
      "cell_type": "markdown",
      "metadata": {
        "id": "KP0Wl_RGJ8PH"
      },
      "source": [
        "A try statement can have more than one except clause, to specify handlers for different exceptions. Please note that at most one handler will be executed."
      ]
    },
    {
      "cell_type": "code",
      "metadata": {
        "id": "RbNA4rwzKJi5",
        "outputId": "ce162ae2-92b3-4550-82df-070b3c7cd57e",
        "colab": {
          "base_uri": "https://localhost:8080/",
          "height": 238
        }
      },
      "source": [
        "a = 3\n",
        "if a < 4 : \n",
        "\n",
        "  # throws ZeroDivisionError for a = 3 \n",
        "  b = a/(a-3) \n",
        "\n",
        "# throws NameError if a >= 4 \n",
        "print(\"Value of b = \", b)"
      ],
      "execution_count": null,
      "outputs": [
        {
          "output_type": "error",
          "ename": "ZeroDivisionError",
          "evalue": "ignored",
          "traceback": [
            "\u001b[0;31m---------------------------------------------------------------------------\u001b[0m",
            "\u001b[0;31mZeroDivisionError\u001b[0m                         Traceback (most recent call last)",
            "\u001b[0;32m<ipython-input-8-bd959ac89914>\u001b[0m in \u001b[0;36m<module>\u001b[0;34m()\u001b[0m\n\u001b[1;32m      3\u001b[0m \u001b[0;34m\u001b[0m\u001b[0m\n\u001b[1;32m      4\u001b[0m   \u001b[0;31m# throws ZeroDivisionError for a = 3\u001b[0m\u001b[0;34m\u001b[0m\u001b[0;34m\u001b[0m\u001b[0;34m\u001b[0m\u001b[0m\n\u001b[0;32m----> 5\u001b[0;31m   \u001b[0mb\u001b[0m \u001b[0;34m=\u001b[0m \u001b[0ma\u001b[0m\u001b[0;34m/\u001b[0m\u001b[0;34m(\u001b[0m\u001b[0ma\u001b[0m\u001b[0;34m-\u001b[0m\u001b[0;36m3\u001b[0m\u001b[0;34m)\u001b[0m\u001b[0;34m\u001b[0m\u001b[0;34m\u001b[0m\u001b[0m\n\u001b[0m\u001b[1;32m      6\u001b[0m \u001b[0;34m\u001b[0m\u001b[0m\n\u001b[1;32m      7\u001b[0m \u001b[0;31m# throws NameError if a >= 4\u001b[0m\u001b[0;34m\u001b[0m\u001b[0;34m\u001b[0m\u001b[0;34m\u001b[0m\u001b[0m\n",
            "\u001b[0;31mZeroDivisionError\u001b[0m: division by zero"
          ]
        }
      ]
    },
    {
      "cell_type": "code",
      "metadata": {
        "id": "3XREk7EJJ9HC",
        "outputId": "6c23ac1d-0f2f-4ea6-fa8a-218e94aee88c",
        "colab": {
          "base_uri": "https://localhost:8080/",
          "height": 52
        }
      },
      "source": [
        "# Program to handle multiple errors with one except statement \n",
        "try : \n",
        "\ta = 3\n",
        "\tif a < 4 : \n",
        "\n",
        "\t\t# throws ZeroDivisionError for a = 3 \n",
        "\t\tb = a/(a-3) \n",
        "\t\n",
        "\t# throws NameError if a >= 4 \n",
        "\tprint(\"Value of b = \", b)\n",
        "\n",
        "# note that braces () are necessary here for multiple exceptions \n",
        "except(ZeroDivisionError, NameError): \n",
        "\tprint(\"\\nError Occurred and Handled\")\n"
      ],
      "execution_count": null,
      "outputs": [
        {
          "output_type": "stream",
          "text": [
            "\n",
            "Error Occurred and Handled\n"
          ],
          "name": "stdout"
        }
      ]
    },
    {
      "cell_type": "markdown",
      "metadata": {
        "id": "0N-w_OONKkVT"
      },
      "source": [
        "### Else clause"
      ]
    },
    {
      "cell_type": "code",
      "metadata": {
        "id": "xYWgQMwrKoEN",
        "outputId": "d672d9b9-1c88-4cb1-acf7-15e7a2c42f3d",
        "colab": {
          "base_uri": "https://localhost:8080/",
          "height": 52
        }
      },
      "source": [
        "# Program to depict else clause with try-except \n",
        "\n",
        "# Function which returns a/b \n",
        "def AbyB(a , b): \n",
        "\ttry: \n",
        "\t\tc = ((a+b) / (a-b)) \n",
        "\texcept ZeroDivisionError: \n",
        "\t\tprint(\"a/b result in 0\")\n",
        "\telse: \n",
        "\t\tprint(c)\n",
        "\n",
        "# Driver program to test above function \n",
        "AbyB(2.0, 3.0) \n",
        "AbyB(3.0, 3.0)"
      ],
      "execution_count": null,
      "outputs": [
        {
          "output_type": "stream",
          "text": [
            "-5.0\n",
            "a/b result in 0\n"
          ],
          "name": "stdout"
        }
      ]
    },
    {
      "cell_type": "markdown",
      "metadata": {
        "id": "OnWG792fK0yc"
      },
      "source": [
        "### Finally Keyword"
      ]
    },
    {
      "cell_type": "code",
      "metadata": {
        "id": "dXKqvmwEK2M-",
        "outputId": "97e101fc-6f76-4929-e1a5-37d28a1aa24d",
        "colab": {
          "base_uri": "https://localhost:8080/",
          "height": 52
        }
      },
      "source": [
        "# Python program to demonstrate finally \n",
        "\t\n",
        "# No exception Exception raised in try block \n",
        "try: \n",
        "\tk = 5//0 # raises divide by zero exception. \n",
        "\tprint(k) \n",
        "\t\n",
        "# handles zerodivision exception\t \n",
        "except ZeroDivisionError:\t \n",
        "\tprint(\"Can't divide by zero\") \n",
        "\t\t\n",
        "finally: \n",
        "\t# this block is always executed \n",
        "\t# regardless of exception generation. \n",
        "\tprint('This is always executed')"
      ],
      "execution_count": null,
      "outputs": [
        {
          "output_type": "stream",
          "text": [
            "Can't divide by zero\n",
            "This is always executed\n"
          ],
          "name": "stdout"
        }
      ]
    },
    {
      "cell_type": "markdown",
      "metadata": {
        "id": "b9SZdME4LQ0G"
      },
      "source": [
        "### Raising Exception"
      ]
    },
    {
      "cell_type": "code",
      "metadata": {
        "id": "t0ZCpxAWLSUa",
        "outputId": "5f172ac0-8228-4f81-f52b-bc8a49bdf131",
        "colab": {
          "base_uri": "https://localhost:8080/",
          "height": 256
        }
      },
      "source": [
        "# Program to depict Raising Exception \n",
        "\n",
        "try: \n",
        "\traise NameError(\"Hi there\") # Raise Error \n",
        "except NameError: \n",
        "\tprint(\"An exception\")\n",
        "\traise # To determine whether the exception was raised or not "
      ],
      "execution_count": null,
      "outputs": [
        {
          "output_type": "stream",
          "text": [
            "An exception\n"
          ],
          "name": "stdout"
        },
        {
          "output_type": "error",
          "ename": "NameError",
          "evalue": "ignored",
          "traceback": [
            "\u001b[0;31m---------------------------------------------------------------------------\u001b[0m",
            "\u001b[0;31mNameError\u001b[0m                                 Traceback (most recent call last)",
            "\u001b[0;32m<ipython-input-13-eb03c7bae205>\u001b[0m in \u001b[0;36m<module>\u001b[0;34m()\u001b[0m\n\u001b[1;32m      2\u001b[0m \u001b[0;34m\u001b[0m\u001b[0m\n\u001b[1;32m      3\u001b[0m \u001b[0;32mtry\u001b[0m\u001b[0;34m:\u001b[0m\u001b[0;34m\u001b[0m\u001b[0;34m\u001b[0m\u001b[0m\n\u001b[0;32m----> 4\u001b[0;31m         \u001b[0;32mraise\u001b[0m \u001b[0mNameError\u001b[0m\u001b[0;34m(\u001b[0m\u001b[0;34m\"Hi there\"\u001b[0m\u001b[0;34m)\u001b[0m \u001b[0;31m# Raise Error\u001b[0m\u001b[0;34m\u001b[0m\u001b[0;34m\u001b[0m\u001b[0m\n\u001b[0m\u001b[1;32m      5\u001b[0m \u001b[0;32mexcept\u001b[0m \u001b[0mNameError\u001b[0m\u001b[0;34m:\u001b[0m\u001b[0;34m\u001b[0m\u001b[0;34m\u001b[0m\u001b[0m\n\u001b[1;32m      6\u001b[0m         \u001b[0mprint\u001b[0m\u001b[0;34m(\u001b[0m\u001b[0;34m\"An exception\"\u001b[0m\u001b[0;34m)\u001b[0m\u001b[0;34m\u001b[0m\u001b[0;34m\u001b[0m\u001b[0m\n",
            "\u001b[0;31mNameError\u001b[0m: Hi there"
          ]
        }
      ]
    }
  ]
}