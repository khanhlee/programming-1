{
 "cells": [
  {
   "cell_type": "markdown",
   "metadata": {
    "id": "4wcPcvfAZWZA"
   },
   "source": [
    "Student ID:\n",
    "\n",
    "Student Name:"
   ]
  },
  {
   "cell_type": "markdown",
   "metadata": {
    "id": "xZOWPf51ZWZC"
   },
   "source": [
    "## Exercise 1"
   ]
  },
  {
   "cell_type": "markdown",
   "metadata": {
    "id": "jJyIyrBLZWZE"
   },
   "source": [
    "Create a function to combine 2 lists into a list. The resulting list contains odd numbers from list 1 and even numbers from list 2"
   ]
  },
  {
   "cell_type": "code",
   "execution_count": 2,
   "metadata": {
    "id": "Gs1HK1mNZWZF"
   },
   "outputs": [],
   "source": [
    "list_1 = [1,2,3,5,45,2,6,8,9,41,23,65,5,7,8]\n",
    "list_2 = [8,46,92,32,15,14,18,71,87,13,6,88,21,53,27]"
   ]
  },
  {
   "cell_type": "code",
   "execution_count": 3,
   "metadata": {
    "id": "D7MbvLB_ZWZM"
   },
   "outputs": [
    {
     "name": "stdout",
     "output_type": "stream",
     "text": [
      "[1, 3, 5, 45, 9, 41, 23, 65, 5, 7, 8, 46, 92, 32, 14, 18, 6, 88]\n"
     ]
    }
   ],
   "source": [
    "# 1st solution\n",
    "a=[]\n",
    "b=[]\n",
    "for x1 in list_1:\n",
    "    if (x1 % 2 == 1): a.append(x1)\n",
    "for x2 in list_2:\n",
    "    if (x2 % 2 == 0): b.append(x2)\n",
    "n=a+b\n",
    "print (n)"
   ]
  },
  {
   "cell_type": "code",
   "execution_count": 13,
   "metadata": {},
   "outputs": [
    {
     "data": {
      "text/plain": [
       "[1, 3, 5, 45, 9, 41, 23, 65, 5, 7, 8, 46, 92, 32, 14, 18, 6, 88]"
      ]
     },
     "execution_count": 13,
     "metadata": {},
     "output_type": "execute_result"
    }
   ],
   "source": [
    "# 2nd solution\n",
    "ex_1 = [x for x in list_1 if x % 2 == 1 ]\n",
    "ex_1.extend([x for x in list_2 if x % 2 == 0 ])\n",
    "ex_1"
   ]
  },
  {
   "cell_type": "markdown",
   "metadata": {
    "id": "VAZg6WWPZWZT"
   },
   "source": [
    "## Exercise 2"
   ]
  },
  {
   "cell_type": "markdown",
   "metadata": {
    "id": "E5w1v-VYZWZT"
   },
   "source": [
    "Get 2 numbers (a, b) from the user and print out the multiplication (a * b) and division (a / b) of 2 numbers. If b=0, print the text: \"Please input b not equal to zero\"."
   ]
  },
  {
   "cell_type": "code",
   "execution_count": 4,
   "metadata": {
    "id": "E60AhsQ6ZWZU"
   },
   "outputs": [
    {
     "name": "stdout",
     "output_type": "stream",
     "text": [
      "Please input a: 1\n",
      "Please input b: 0\n",
      "Please input b not equal to zero\n"
     ]
    }
   ],
   "source": [
    "# 1st solution\n",
    "a = int(input('Please input a: '))\n",
    "b = int(input('Please input b: '))\n",
    "if b == 0:\n",
    "    print (\"Please input b not equal to zero\")\n",
    "else:\n",
    "    c = a*b\n",
    "    print (c)\n",
    "    d = a/b\n",
    "    print (d)"
   ]
  },
  {
   "cell_type": "code",
   "execution_count": 16,
   "metadata": {},
   "outputs": [
    {
     "name": "stdout",
     "output_type": "stream",
     "text": [
      "a: 3\n",
      "b: 0\n",
      "\"Please input b not equal to zero\"\n"
     ]
    }
   ],
   "source": [
    "# 2nd solution\n",
    "a = input('a: ')\n",
    "b = input('b: ')\n",
    "\n",
    "try:\n",
    "    print('a * b =', int(a)*int(b),', ', 'a / b =', int(a)/int(b))\n",
    "except ZeroDivisionError as error:\n",
    "    print('Please input b not equal to zero') "
   ]
  },
  {
   "cell_type": "markdown",
   "metadata": {
    "id": "bHjYDmqOZWZb"
   },
   "source": [
    "## Exercise 3"
   ]
  },
  {
   "cell_type": "markdown",
   "metadata": {
    "id": "qJXUf_mgZWZc"
   },
   "source": [
    "Add one week to current time\n",
    "\n",
    "For example:\n",
    "current time: 2020-10-17 00:00:00\n",
    "\n",
    "==> expected output: 2020-10-24 00:00:00"
   ]
  },
  {
   "cell_type": "code",
   "execution_count": 6,
   "metadata": {
    "id": "aCeLwxwwZWZd"
   },
   "outputs": [],
   "source": [
    "import datetime\n",
    "\n",
    "# Get current time\n",
    "current_time = datetime.datetime.now()"
   ]
  },
  {
   "cell_type": "code",
   "execution_count": 7,
   "metadata": {
    "id": "39zK2MQUZWZh"
   },
   "outputs": [
    {
     "name": "stdout",
     "output_type": "stream",
     "text": [
      "2020-10-31 00:29:52.678546\n",
      "2020-11-07 00:29:52.678546\n"
     ]
    }
   ],
   "source": [
    "# 1st solution\n",
    "print(current_time)\n",
    "new_time= current_time + datetime.timedelta(days=7)\n",
    "print(new_time)"
   ]
  },
  {
   "cell_type": "markdown",
   "metadata": {
    "id": "HVtQ5Mk8ZWZm"
   },
   "source": [
    "## Exercise 4"
   ]
  },
  {
   "cell_type": "markdown",
   "metadata": {
    "id": "3NJgyV09ZWZp"
   },
   "source": [
    "Using Python to create a file \"AI.txt\", and then fill in this file with the following pattern:\n",
    "\n",
    "1 \n",
    "2 2 \n",
    "3 3 3 \n",
    "4 4 4 4 \n",
    "5 5 5 5 5\n",
    "6 6 6 6 6 6\n",
    "7 7 7 7 7 7 7\n",
    "\n",
    "Note: using loop to generate the pattern"
   ]
  },
  {
   "cell_type": "code",
   "execution_count": 9,
   "metadata": {
    "id": "vOjvYFo3ZWZq"
   },
   "outputs": [],
   "source": [
    "# Put your code here\n",
    "f = open('AI.txt', 'w')\n",
    "for i in range(1,8):\n",
    "    f.write(str((str(i)+' ')*i) + '\\n')\n",
    "f.close()"
   ]
  },
  {
   "cell_type": "markdown",
   "metadata": {
    "id": "3lKSNLTEZWZu"
   },
   "source": [
    "## Exercise 5"
   ]
  },
  {
   "cell_type": "markdown",
   "metadata": {
    "id": "fz_7X0yTZWZv"
   },
   "source": [
    "Given the \"exercise.txt\" file. Open it and remove the line with \"Programming\", after that, overwrite the file.\n",
    "The contents in result file should be:\n",
    "\n",
    "Artificial Intelligence in Medicine\n",
    "Machine Learning\n",
    "Deep Learning\n",
    "Data Analysis"
   ]
  },
  {
   "cell_type": "code",
   "execution_count": 11,
   "metadata": {
    "id": "7vj3oZgsZWZw"
   },
   "outputs": [],
   "source": [
    "# First solution\n",
    "f = open(\"exercise.txt\",\"w\")\n",
    "for line in lines:\n",
    "    if line!=\"Programming\"+\"\\n\":\n",
    "        f.write(line)\n",
    "f.close()"
   ]
  },
  {
   "cell_type": "code",
   "execution_count": null,
   "metadata": {},
   "outputs": [],
   "source": []
  }
 ],
 "metadata": {
  "colab": {
   "name": "exercise_2.ipynb",
   "provenance": []
  },
  "kernelspec": {
   "display_name": "Python 3",
   "language": "python",
   "name": "python3"
  },
  "language_info": {
   "codemirror_mode": {
    "name": "ipython",
    "version": 3
   },
   "file_extension": ".py",
   "mimetype": "text/x-python",
   "name": "python",
   "nbconvert_exporter": "python",
   "pygments_lexer": "ipython3",
   "version": "3.7.4"
  }
 },
 "nbformat": 4,
 "nbformat_minor": 1
}
