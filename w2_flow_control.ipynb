{
  "nbformat": 4,
  "nbformat_minor": 0,
  "metadata": {
    "colab": {
      "name": "w2_flow_control.ipynb",
      "provenance": []
    },
    "kernelspec": {
      "name": "python3",
      "display_name": "Python 3"
    }
  },
  "cells": [
    {
      "cell_type": "markdown",
      "metadata": {
        "id": "rW9dzD2RQ2Lh"
      },
      "source": [
        "# Data Types"
      ]
    },
    {
      "cell_type": "markdown",
      "metadata": {
        "id": "RkhGHzbeQ8So"
      },
      "source": [
        "### Numbers"
      ]
    },
    {
      "cell_type": "code",
      "metadata": {
        "id": "-Sqrqdr7PlSx"
      },
      "source": [
        "x = 1\n",
        "y = 0.001\n",
        "z = 12e-10"
      ],
      "execution_count": null,
      "outputs": []
    },
    {
      "cell_type": "code",
      "metadata": {
        "id": "vvT06X6xPz5C",
        "outputId": "6e5a644d-90b1-49c8-b0b2-9072d6f05898",
        "colab": {
          "base_uri": "https://localhost:8080/",
          "height": 34
        }
      },
      "source": [
        "z"
      ],
      "execution_count": null,
      "outputs": [
        {
          "output_type": "execute_result",
          "data": {
            "text/plain": [
              "1.2e-09"
            ]
          },
          "metadata": {
            "tags": []
          },
          "execution_count": 2
        }
      ]
    },
    {
      "cell_type": "markdown",
      "metadata": {
        "id": "1CDTiLvzRANF"
      },
      "source": [
        "### Dictionary"
      ]
    },
    {
      "cell_type": "code",
      "metadata": {
        "id": "k3d-gHl6P5nS"
      },
      "source": [
        "# Dictionary\n",
        "x = {'Name':'AI in Medicine',\n",
        "     'Teacher':'Lee',\n",
        "     'Students':48}"
      ],
      "execution_count": null,
      "outputs": []
    },
    {
      "cell_type": "code",
      "metadata": {
        "id": "Tq5qfSFYQbU4",
        "outputId": "4941df28-f6c5-4594-ed7d-19db5d50bea6",
        "colab": {
          "base_uri": "https://localhost:8080/",
          "height": 34
        }
      },
      "source": [
        "x"
      ],
      "execution_count": null,
      "outputs": [
        {
          "output_type": "execute_result",
          "data": {
            "text/plain": [
              "{'Name': 'AI in Medicine', 'Students': 48, 'Teacher': 'Lee'}"
            ]
          },
          "metadata": {
            "tags": []
          },
          "execution_count": 5
        }
      ]
    },
    {
      "cell_type": "code",
      "metadata": {
        "id": "CfmX5Vl6Qi4S",
        "outputId": "9cd52b6a-a6f5-4f30-9a9f-7a03c04527b3",
        "colab": {
          "base_uri": "https://localhost:8080/",
          "height": 35
        }
      },
      "source": [
        "# Get items from dictionary\n",
        "x['Name']"
      ],
      "execution_count": null,
      "outputs": [
        {
          "output_type": "execute_result",
          "data": {
            "application/vnd.google.colaboratory.intrinsic+json": {
              "type": "string"
            },
            "text/plain": [
              "'AI in Medicine'"
            ]
          },
          "metadata": {
            "tags": []
          },
          "execution_count": 6
        }
      ]
    },
    {
      "cell_type": "code",
      "metadata": {
        "id": "j1xiX3IYQvzt",
        "outputId": "6db71f3b-7c66-43fc-d1c3-824ab1706cfa",
        "colab": {
          "base_uri": "https://localhost:8080/",
          "height": 35
        }
      },
      "source": [
        "x.get('Name')"
      ],
      "execution_count": null,
      "outputs": [
        {
          "output_type": "execute_result",
          "data": {
            "application/vnd.google.colaboratory.intrinsic+json": {
              "type": "string"
            },
            "text/plain": [
              "'AI in Medicine'"
            ]
          },
          "metadata": {
            "tags": []
          },
          "execution_count": 7
        }
      ]
    },
    {
      "cell_type": "code",
      "metadata": {
        "id": "JNQQRrOKXIil",
        "outputId": "90466f8f-8fec-4a20-bc73-99a02ec77076",
        "colab": {
          "base_uri": "https://localhost:8080/",
          "height": 34
        }
      },
      "source": [
        "# Creating a Nested Dictionary \n",
        "# as shown in the below image \n",
        "Dict = {1: 'AI', 2: 'in', \n",
        "\t\t3:{'A' : 'Welcome', 'B' : 'To', 'C' : 'Class'}} \n",
        "\n",
        "print(Dict)"
      ],
      "execution_count": null,
      "outputs": [
        {
          "output_type": "stream",
          "text": [
            "{1: 'AI', 2: 'in', 3: {'A': 'Welcome', 'B': 'To', 'C': 'Class'}}\n"
          ],
          "name": "stdout"
        }
      ]
    },
    {
      "cell_type": "markdown",
      "metadata": {
        "id": "GIQeLZH7XZyR"
      },
      "source": [
        "#### Adding elements to a Dictionary"
      ]
    },
    {
      "cell_type": "code",
      "metadata": {
        "id": "Kx1CDAQ1Xbwx",
        "outputId": "24fdd3a2-ce24-4fb3-986c-3b0f984d07f1",
        "colab": {
          "base_uri": "https://localhost:8080/",
          "height": 265
        }
      },
      "source": [
        "# Creating an empty Dictionary \n",
        "Dict = {} \n",
        "print(\"Empty Dictionary: \") \n",
        "print(Dict) \n",
        "\n",
        "# Adding elements one at a time \n",
        "Dict[0] = 'Geeks'\n",
        "Dict[2] = 'For'\n",
        "Dict[3] = 1\n",
        "print(\"\\nDictionary after adding 3 elements: \") \n",
        "print(Dict) \n",
        "\n",
        "# Adding set of values \n",
        "# to a single Key \n",
        "Dict['Value_set'] = 2, 3, 4\n",
        "print(\"\\nDictionary after adding 3 elements: \") \n",
        "print(Dict) \n",
        "\n",
        "# Updating existing Key's Value \n",
        "Dict[2] = 'Welcome'\n",
        "print(\"\\nUpdated key value: \") \n",
        "print(Dict) \n",
        "\n",
        "# Adding Nested Key value to Dictionary \n",
        "Dict[5] = {'Nested' :{'1' : 'Life', '2' : 'Geeks'}} \n",
        "print(\"\\nAdding a Nested Key: \") \n",
        "print(Dict) "
      ],
      "execution_count": null,
      "outputs": [
        {
          "output_type": "stream",
          "text": [
            "Empty Dictionary: \n",
            "{}\n",
            "\n",
            "Dictionary after adding 3 elements: \n",
            "{0: 'Geeks', 2: 'For', 3: 1}\n",
            "\n",
            "Dictionary after adding 3 elements: \n",
            "{0: 'Geeks', 2: 'For', 3: 1, 'Value_set': (2, 3, 4)}\n",
            "\n",
            "Updated key value: \n",
            "{0: 'Geeks', 2: 'Welcome', 3: 1, 'Value_set': (2, 3, 4)}\n",
            "\n",
            "Adding a Nested Key: \n",
            "{0: 'Geeks', 2: 'Welcome', 3: 1, 'Value_set': (2, 3, 4), 5: {'Nested': {'1': 'Life', '2': 'Geeks'}}}\n"
          ],
          "name": "stdout"
        }
      ]
    },
    {
      "cell_type": "code",
      "metadata": {
        "id": "p1ga2NLJXtL8",
        "outputId": "641ca45b-4234-4f0b-e7aa-7d8970c2369c",
        "colab": {
          "base_uri": "https://localhost:8080/",
          "height": 70
        }
      },
      "source": [
        "# Accessing element of a nested dictionary\n",
        "# Creating a Dictionary \n",
        "Dict = {'Dict1': {1: 'Geeks'}, \n",
        "\t\t'Dict2': {'Name': 'For'}} \n",
        "\n",
        "# Accessing element using key \n",
        "print(Dict['Dict1']) \n",
        "print(Dict['Dict1'][1]) \n",
        "print(Dict['Dict2']['Name'])"
      ],
      "execution_count": null,
      "outputs": [
        {
          "output_type": "stream",
          "text": [
            "{1: 'Geeks'}\n",
            "Geeks\n",
            "For\n"
          ],
          "name": "stdout"
        }
      ]
    },
    {
      "cell_type": "markdown",
      "metadata": {
        "id": "an6DpxnwX6DQ"
      },
      "source": [
        "#### Removing Elements from Dictionary"
      ]
    },
    {
      "cell_type": "code",
      "metadata": {
        "id": "X1MeTU7XX8JE",
        "outputId": "57e8d041-2cb6-483f-ec18-939dcc98b749",
        "colab": {
          "base_uri": "https://localhost:8080/",
          "height": 158
        }
      },
      "source": [
        "# Initial Dictionary \n",
        "Dict = { 5 : 'Welcome', 6 : 'To', 7 : 'Geeks', \n",
        "\t\t'A' : {1 : 'Geeks', 2 : 'For', 3 : 'Geeks'}, \n",
        "\t\t'B' : {1 : 'Geeks', 2 : 'Life'}} \n",
        "print(\"Initial Dictionary: \") \n",
        "print(Dict) \n",
        "\n",
        "# Deleting a Key value \n",
        "del Dict[6] \n",
        "print(\"\\nDeleting a specific key: \") \n",
        "print(Dict) \n",
        "\n",
        "# Deleting a Key from \n",
        "# Nested Dictionary \n",
        "del Dict['A'][2] \n",
        "print(\"\\nDeleting a key from Nested Dictionary: \") \n",
        "print(Dict)"
      ],
      "execution_count": null,
      "outputs": [
        {
          "output_type": "stream",
          "text": [
            "Initial Dictionary: \n",
            "{5: 'Welcome', 6: 'To', 7: 'Geeks', 'A': {1: 'Geeks', 2: 'For', 3: 'Geeks'}, 'B': {1: 'Geeks', 2: 'Life'}}\n",
            "\n",
            "Deleting a specific key: \n",
            "{5: 'Welcome', 7: 'Geeks', 'A': {1: 'Geeks', 2: 'For', 3: 'Geeks'}, 'B': {1: 'Geeks', 2: 'Life'}}\n",
            "\n",
            "Deleting a key from Nested Dictionary: \n",
            "{5: 'Welcome', 7: 'Geeks', 'A': {1: 'Geeks', 3: 'Geeks'}, 'B': {1: 'Geeks', 2: 'Life'}}\n"
          ],
          "name": "stdout"
        }
      ]
    },
    {
      "cell_type": "markdown",
      "metadata": {
        "id": "IzxIgOiPpixQ"
      },
      "source": [
        "### Boolean"
      ]
    },
    {
      "cell_type": "code",
      "metadata": {
        "id": "lwhYXggspmdb",
        "outputId": "2bedd902-2a36-47f9-9d38-02af8791b531",
        "colab": {
          "base_uri": "https://localhost:8080/",
          "height": 70
        }
      },
      "source": [
        "print(10 > 9)\n",
        "print(10 == 9)\n",
        "print(10 < 9)"
      ],
      "execution_count": null,
      "outputs": [
        {
          "output_type": "stream",
          "text": [
            "True\n",
            "False\n",
            "False\n"
          ],
          "name": "stdout"
        }
      ]
    },
    {
      "cell_type": "markdown",
      "metadata": {
        "id": "d9D011Q_rBsV"
      },
      "source": [
        "### Set"
      ]
    },
    {
      "cell_type": "code",
      "metadata": {
        "id": "x6hSWhY1ZWiA",
        "outputId": "03683831-ca6a-4a9b-9815-49bf8ecc2735",
        "colab": {
          "base_uri": "https://localhost:8080/",
          "height": 52
        }
      },
      "source": [
        "# Creating a Set \n",
        "set1 = set() \n",
        "print(\"This is a blank set: \") \n",
        "print(set1)"
      ],
      "execution_count": null,
      "outputs": [
        {
          "output_type": "stream",
          "text": [
            "Intial blank Set: \n",
            "set()\n"
          ],
          "name": "stdout"
        }
      ]
    },
    {
      "cell_type": "code",
      "metadata": {
        "id": "sajjoFZuqq5Z",
        "outputId": "63938b70-6b5d-4b4a-8806-54739d5e977b",
        "colab": {
          "base_uri": "https://localhost:8080/",
          "height": 34
        }
      },
      "source": [
        "# Creating a set\n",
        "course_set = {\"AI\", \"Medicine\", \"Machine learning\"}\n",
        "print(course_set)"
      ],
      "execution_count": null,
      "outputs": [
        {
          "output_type": "stream",
          "text": [
            "{'Machine learning', 'Medicine', 'AI'}\n"
          ],
          "name": "stdout"
        }
      ]
    },
    {
      "cell_type": "code",
      "metadata": {
        "id": "g-2GxOePrP8l",
        "outputId": "8972ab99-5d83-4e39-c6f5-900889e74eae",
        "colab": {
          "base_uri": "https://localhost:8080/",
          "height": 70
        }
      },
      "source": [
        "# Access items\n",
        "for x in course_set:\n",
        "  print(x)"
      ],
      "execution_count": null,
      "outputs": [
        {
          "output_type": "stream",
          "text": [
            "Machine learning\n",
            "Medicine\n",
            "AI\n"
          ],
          "name": "stdout"
        }
      ]
    },
    {
      "cell_type": "code",
      "metadata": {
        "id": "jIkRl4EdrX9X",
        "outputId": "f988f281-7592-4fce-a6a9-e1c77cac886f",
        "colab": {
          "base_uri": "https://localhost:8080/",
          "height": 34
        }
      },
      "source": [
        "# Check if \"AI\" is present in the set:\n",
        "print(\"AI\" in course_set)"
      ],
      "execution_count": null,
      "outputs": [
        {
          "output_type": "stream",
          "text": [
            "True\n"
          ],
          "name": "stdout"
        }
      ]
    },
    {
      "cell_type": "code",
      "metadata": {
        "id": "Z299fhQgsA01",
        "outputId": "9fa50847-0938-4264-c487-12cbedf0814c",
        "colab": {
          "base_uri": "https://localhost:8080/",
          "height": 34
        }
      },
      "source": [
        "# Adding Elements to a Set\n",
        "course_set.add(\"Deep learning\")\n",
        "print(course_set)"
      ],
      "execution_count": null,
      "outputs": [
        {
          "output_type": "stream",
          "text": [
            "{'Machine learning', 'Medicine', 'AI', 'Deep learning'}\n"
          ],
          "name": "stdout"
        }
      ]
    },
    {
      "cell_type": "code",
      "metadata": {
        "id": "mb-eoNg8sEMF",
        "outputId": "310845be-21f8-4be3-f4eb-390fc78000a3",
        "colab": {
          "base_uri": "https://localhost:8080/",
          "height": 34
        }
      },
      "source": [
        "# addition of two or more elements\n",
        "course_set.update([\"Programming\", \"Data processing\"])\n",
        "print(course_set)"
      ],
      "execution_count": null,
      "outputs": [
        {
          "output_type": "stream",
          "text": [
            "{'AI', 'Programming', 'Machine learning', 'Deep learning', 'Medicine', 'Data processing'}\n"
          ],
          "name": "stdout"
        }
      ]
    },
    {
      "cell_type": "code",
      "metadata": {
        "id": "5yrKDdSPsMLY",
        "outputId": "c860aa5f-82dd-4510-fe06-0a449a306bb1",
        "colab": {
          "base_uri": "https://localhost:8080/",
          "height": 34
        }
      },
      "source": [
        "# Get the Length of a Set\n",
        "# To determine how many items a set has, use the len() method.\n",
        "print(len(course_set))"
      ],
      "execution_count": null,
      "outputs": [
        {
          "output_type": "stream",
          "text": [
            "6\n"
          ],
          "name": "stdout"
        }
      ]
    },
    {
      "cell_type": "code",
      "metadata": {
        "id": "Gz7NbHFqsiUd",
        "outputId": "b066f6ed-09ef-4010-804c-2e0c1e9d8c68",
        "colab": {
          "base_uri": "https://localhost:8080/",
          "height": 34
        }
      },
      "source": [
        "# To remove an item in a set, use the remove(), or the discard() method.\n",
        "course_set.remove(\"Data processing\")\n",
        "print(course_set)"
      ],
      "execution_count": null,
      "outputs": [
        {
          "output_type": "stream",
          "text": [
            "{'AI', 'Programming', 'Machine learning', 'Deep learning', 'Medicine'}\n"
          ],
          "name": "stdout"
        }
      ]
    },
    {
      "cell_type": "code",
      "metadata": {
        "id": "Ta-a24r2sokc",
        "outputId": "ac82552d-b926-4d30-9af6-5fcfbdff844a",
        "colab": {
          "base_uri": "https://localhost:8080/",
          "height": 34
        }
      },
      "source": [
        "# Another way\n",
        "course_set.discard('Medicine')\n",
        "print(course_set)\n"
      ],
      "execution_count": null,
      "outputs": [
        {
          "output_type": "stream",
          "text": [
            "{'AI', 'Programming', 'Machine learning', 'Deep learning'}\n"
          ],
          "name": "stdout"
        }
      ]
    },
    {
      "cell_type": "code",
      "metadata": {
        "id": "2Y_Nkrfvsx0-",
        "outputId": "8649e9c4-2f63-497c-b125-5816ce6abf2b",
        "colab": {
          "base_uri": "https://localhost:8080/",
          "height": 52
        }
      },
      "source": [
        "# You can also use the pop(), method to remove an item, but this method will remove the last item.\n",
        "# Remember that sets are unordered, so you will not know what item that gets removed. The return value of the pop() method is the removed item.\n",
        "x = thisset.pop()\n",
        "print(x)\n",
        "print(thisset)"
      ],
      "execution_count": null,
      "outputs": [
        {
          "output_type": "stream",
          "text": [
            "apple\n",
            "{'mango', 'orange', 'cherry'}\n"
          ],
          "name": "stdout"
        }
      ]
    },
    {
      "cell_type": "code",
      "metadata": {
        "id": "LP7H5hfVs3UG",
        "outputId": "38efe917-3167-41b4-c0a7-7b12161c58d7",
        "colab": {
          "base_uri": "https://localhost:8080/",
          "height": 70
        }
      },
      "source": [
        "# Removing all the elements from  \n",
        "# Set using clear() method \n",
        "course_set.clear() \n",
        "print(\"\\nSet after clearing all the elements: \") \n",
        "print(course_set)"
      ],
      "execution_count": null,
      "outputs": [
        {
          "output_type": "stream",
          "text": [
            "\n",
            "Set after clearing all the elements: \n",
            "set()\n"
          ],
          "name": "stdout"
        }
      ]
    },
    {
      "cell_type": "markdown",
      "metadata": {
        "id": "sg-JdJ7cuLA1"
      },
      "source": [
        "### List"
      ]
    },
    {
      "cell_type": "code",
      "metadata": {
        "id": "XKQidOsibe8N",
        "outputId": "e8cdd4d5-a935-4f13-a7ee-050f722167a7",
        "colab": {
          "base_uri": "https://localhost:8080/",
          "height": 52
        }
      },
      "source": [
        "# A list is a collection which is ordered and changeable. In Python lists are written with square brackets.\n",
        "# Creating an empty List \n",
        "List = [] \n",
        "print(\"Blank List: \") \n",
        "print(List)"
      ],
      "execution_count": null,
      "outputs": [
        {
          "output_type": "stream",
          "text": [
            "Blank List: \n",
            "[]\n"
          ],
          "name": "stdout"
        }
      ]
    },
    {
      "cell_type": "code",
      "metadata": {
        "id": "Sh4qTUTiuNSn",
        "outputId": "e400661c-80db-4fdd-a039-6dc4f50fc1ed",
        "colab": {
          "base_uri": "https://localhost:8080/",
          "height": 34
        }
      },
      "source": [
        "# Create a list\n",
        "course_list = [\"AI\", \"Medicine\", \"Machine learning\"]\n",
        "print(course_list)"
      ],
      "execution_count": null,
      "outputs": [
        {
          "output_type": "stream",
          "text": [
            "['AI', 'Medicine', 'Machine learning']\n"
          ],
          "name": "stdout"
        }
      ]
    },
    {
      "cell_type": "code",
      "metadata": {
        "id": "ymKjfXSGubpW",
        "outputId": "06ad7669-11c8-4cb9-949c-7d6ba511a582",
        "colab": {
          "base_uri": "https://localhost:8080/",
          "height": 34
        }
      },
      "source": [
        "# You access the list items by referring to the index number:\n",
        "print(course_list[1])"
      ],
      "execution_count": null,
      "outputs": [
        {
          "output_type": "stream",
          "text": [
            "Medicine\n"
          ],
          "name": "stdout"
        }
      ]
    },
    {
      "cell_type": "code",
      "metadata": {
        "id": "8ss5pVhIulr2",
        "outputId": "ae4f2bc5-bedd-4cc5-edea-752fe3cc995a",
        "colab": {
          "base_uri": "https://localhost:8080/",
          "height": 34
        }
      },
      "source": [
        "# Negative index\n",
        "print(course_list[-1])"
      ],
      "execution_count": null,
      "outputs": [
        {
          "output_type": "stream",
          "text": [
            "Machine learning\n"
          ],
          "name": "stdout"
        }
      ]
    },
    {
      "cell_type": "code",
      "metadata": {
        "id": "SAZu8Ikfuusw",
        "outputId": "4577a3e4-6653-4459-b672-7bf47dfadfc4",
        "colab": {
          "base_uri": "https://localhost:8080/",
          "height": 34
        }
      },
      "source": [
        "# To change the value of a specific item, refer to the index number:\n",
        "course_list[2] = \"Deep learning\"\n",
        "print(course_list)"
      ],
      "execution_count": null,
      "outputs": [
        {
          "output_type": "stream",
          "text": [
            "['AI', 'Medicine', 'Deep learning']\n"
          ],
          "name": "stdout"
        }
      ]
    },
    {
      "cell_type": "code",
      "metadata": {
        "id": "WIx23vVlbvGs",
        "outputId": "081e2de8-44f0-4c58-bcea-8bd43cc69557",
        "colab": {
          "base_uri": "https://localhost:8080/",
          "height": 105
        }
      },
      "source": [
        "# Adding Elements to a List\n",
        "# Python program to demonstrate \n",
        "# Addition of elements in a List \n",
        "\n",
        "# Creating a List \n",
        "List = [] \n",
        "print(\"Initial blank List: \") \n",
        "print(List) \n",
        "\n",
        "# Addition of Elements \n",
        "# in the List \n",
        "List.append(1) \n",
        "List.append(2) \n",
        "List.append(4) \n",
        "print(\"\\nList after Addition of Three elements: \") \n",
        "print(List)"
      ],
      "execution_count": null,
      "outputs": [
        {
          "output_type": "stream",
          "text": [
            "Initial blank List: \n",
            "[]\n",
            "\n",
            "List after Addition of Three elements: \n",
            "[1, 2, 4]\n"
          ],
          "name": "stdout"
        }
      ]
    },
    {
      "cell_type": "code",
      "metadata": {
        "id": "62plIWhpcB4T",
        "outputId": "ebafb9bf-4cf2-4a80-8f0f-e1f28a4f17c1",
        "colab": {
          "base_uri": "https://localhost:8080/",
          "height": 70
        }
      },
      "source": [
        "# Using insert() method\n",
        "\n",
        "\n",
        "# Addition of Element at \n",
        "# specific Position \n",
        "# (using Insert Method) \n",
        "List.insert(3, 12) \n",
        "List.insert(0, 'AI') \n",
        "print(\"\\nList after performing Insert Operation: \") \n",
        "print(List)"
      ],
      "execution_count": null,
      "outputs": [
        {
          "output_type": "stream",
          "text": [
            "\n",
            "List after performing Insert Operation: \n",
            "['AI', 1, 2, 4, 12]\n"
          ],
          "name": "stdout"
        }
      ]
    },
    {
      "cell_type": "code",
      "metadata": {
        "id": "z6uBn6OUcRQS",
        "outputId": "6661ce6c-cda7-44c3-b849-22f616d9e336",
        "colab": {
          "base_uri": "https://localhost:8080/",
          "height": 70
        }
      },
      "source": [
        "# Using extend() method\n",
        "List.extend([8, 'Geeks', 'Always']) \n",
        "print(\"\\nList after performing Extend Operation: \") \n",
        "print(List) "
      ],
      "execution_count": null,
      "outputs": [
        {
          "output_type": "stream",
          "text": [
            "\n",
            "List after performing Extend Operation: \n",
            "['AI', 1, 2, 4, 12, 8, 'Geeks', 'Always']\n"
          ],
          "name": "stdout"
        }
      ]
    },
    {
      "cell_type": "markdown",
      "metadata": {
        "id": "cb6uLA6uckOp"
      },
      "source": [
        "#### Removing Elements from the List"
      ]
    },
    {
      "cell_type": "code",
      "metadata": {
        "id": "A0gt21qocg9_",
        "outputId": "13cdaf01-31e2-4f7f-c01c-ef0122c78feb",
        "colab": {
          "base_uri": "https://localhost:8080/",
          "height": 70
        }
      },
      "source": [
        "# Using remove() method\n",
        "List.remove(4) \n",
        "List.remove(12) \n",
        "print(\"\\nList after Removal of two elements: \") \n",
        "print(List)"
      ],
      "execution_count": null,
      "outputs": [
        {
          "output_type": "stream",
          "text": [
            "\n",
            "List after Removal of two elements: \n",
            "['AI', 1, 2, 8, 'Geeks', 'Always']\n"
          ],
          "name": "stdout"
        }
      ]
    },
    {
      "cell_type": "markdown",
      "metadata": {
        "id": "WOkywYo-vA-r"
      },
      "source": [
        "### Tuple"
      ]
    },
    {
      "cell_type": "code",
      "metadata": {
        "id": "cKXfNwNDvCeY",
        "outputId": "cfed80e6-5f7b-4f7d-a2d9-fa420628549c",
        "colab": {
          "base_uri": "https://localhost:8080/",
          "height": 34
        }
      },
      "source": [
        "# A tuple is a collection which is ordered and unchangeable. In Python tuples are written with round brackets.\n",
        "course_tuple = (\"AI\", \"Medicine\", \"Machine learning\")\n",
        "print(course_tuple)"
      ],
      "execution_count": null,
      "outputs": [
        {
          "output_type": "stream",
          "text": [
            "('AI', 'Medicine', 'Machine learning')\n"
          ],
          "name": "stdout"
        }
      ]
    },
    {
      "cell_type": "code",
      "metadata": {
        "id": "EInDbpYzvRqM",
        "outputId": "6db7e82a-1568-46c5-8876-b382cf18e158",
        "colab": {
          "base_uri": "https://localhost:8080/",
          "height": 34
        }
      },
      "source": [
        "# Once a tuple is created, you cannot change its values. Tuples are unchangeable, or immutable as it also is called.\n",
        "x = (\"apple\", \"banana\", \"cherry\")\n",
        "y = list(x)\n",
        "y[1] = \"kiwi\"\n",
        "x = tuple(y)\n",
        "\n",
        "print(x)"
      ],
      "execution_count": null,
      "outputs": [
        {
          "output_type": "stream",
          "text": [
            "('apple', 'kiwi', 'cherry')\n"
          ],
          "name": "stdout"
        }
      ]
    },
    {
      "cell_type": "markdown",
      "metadata": {
        "id": "CHI9v42UWtKP"
      },
      "source": [
        "## Operators"
      ]
    },
    {
      "cell_type": "markdown",
      "metadata": {
        "id": "_xUkva2NeZ90"
      },
      "source": [
        "### Arithmetic operators"
      ]
    },
    {
      "cell_type": "code",
      "metadata": {
        "id": "lJU3XE6w-RXm",
        "outputId": "f2b1314a-0fd2-4fb4-9056-b4e722b96046",
        "colab": {
          "base_uri": "https://localhost:8080/",
          "height": 141
        }
      },
      "source": [
        "# Examples of Arithmetic Operator \n",
        "a = 9\n",
        "b = 4\n",
        "\n",
        "# Addition of numbers \n",
        "add = a + b \n",
        "\n",
        "# Subtraction of numbers \n",
        "sub = a - b \n",
        "\n",
        "# Multiplication of number \n",
        "mul = a * b \n",
        "\n",
        "# Division(float) of number \n",
        "div1 = a / b \n",
        "\n",
        "# Division(floor) of number \n",
        "div2 = a // b \n",
        "\n",
        "# Modulo of both number \n",
        "mod = a % b \n",
        "\n",
        "# Power \n",
        "p = a ** b \n",
        "\n",
        "# print results \n",
        "print(add) \n",
        "print(sub) \n",
        "print(mul) \n",
        "print(div1) \n",
        "print(div2) \n",
        "print(mod) \n",
        "print(p) "
      ],
      "execution_count": null,
      "outputs": [
        {
          "output_type": "stream",
          "text": [
            "13\n",
            "5\n",
            "36\n",
            "2.25\n",
            "2\n",
            "1\n",
            "6561\n"
          ],
          "name": "stdout"
        }
      ]
    },
    {
      "cell_type": "markdown",
      "metadata": {
        "id": "b2Dx1RR1eedG"
      },
      "source": [
        "### Relational operators"
      ]
    },
    {
      "cell_type": "code",
      "metadata": {
        "id": "PwtMEI8h-X-y",
        "outputId": "fa6b81a6-1116-4790-c93d-c0eae403cce7",
        "colab": {
          "base_uri": "https://localhost:8080/",
          "height": 123
        }
      },
      "source": [
        "# Examples of Relational Operators \n",
        "a = 13\n",
        "b = 33\n",
        "\n",
        "# a > b is False \n",
        "print(a > b) \n",
        "\n",
        "# a < b is True \n",
        "print(a < b) \n",
        "\n",
        "# a == b is False \n",
        "print(a == b) \n",
        "\n",
        "# a != b is True \n",
        "print(a != b) \n",
        "\n",
        "# a >= b is False \n",
        "print(a >= b) \n",
        "\n",
        "# a <= b is True \n",
        "print(a <= b) "
      ],
      "execution_count": null,
      "outputs": [
        {
          "output_type": "stream",
          "text": [
            "False\n",
            "True\n",
            "False\n",
            "True\n",
            "False\n",
            "True\n"
          ],
          "name": "stdout"
        }
      ]
    },
    {
      "cell_type": "markdown",
      "metadata": {
        "id": "UBj3vx-KeiNZ"
      },
      "source": [
        "### Logical operators"
      ]
    },
    {
      "cell_type": "code",
      "metadata": {
        "id": "VuTcb_GX_RAS",
        "outputId": "7c158f29-dcff-472d-8402-00f64fee0804",
        "colab": {
          "base_uri": "https://localhost:8080/",
          "height": 70
        }
      },
      "source": [
        "# Examples of Logical Operator \n",
        "a = True\n",
        "b = False\n",
        "\n",
        "# Print a and b is False \n",
        "print(a and b) \n",
        "\n",
        "# Print a or b is True \n",
        "print(a or b) \n",
        "\n",
        "# Print not a is False \n",
        "print(not a) "
      ],
      "execution_count": null,
      "outputs": [
        {
          "output_type": "stream",
          "text": [
            "False\n",
            "True\n",
            "False\n"
          ],
          "name": "stdout"
        }
      ]
    },
    {
      "cell_type": "markdown",
      "metadata": {
        "id": "CxGWGsaNemot"
      },
      "source": [
        "### All Any"
      ]
    },
    {
      "cell_type": "code",
      "metadata": {
        "id": "HbMTCRX4EbVW",
        "outputId": "98e49e5c-7c43-4d5e-e216-da0923475194",
        "colab": {
          "base_uri": "https://localhost:8080/",
          "height": 70
        }
      },
      "source": [
        "# Since all are false, false is returned \n",
        "print (any([False, False, False, False])) \n",
        "\n",
        "# Here the method will short-circuit at the \n",
        "# second item (True) and will return True. \n",
        "print (any([False, True, False, False])) \n",
        "\n",
        "# Here the method will short-circuit at the \n",
        "# first (True) and will return True. \n",
        "print (any([True, False, False, False]))"
      ],
      "execution_count": null,
      "outputs": [
        {
          "output_type": "stream",
          "text": [
            "False\n",
            "True\n",
            "True\n"
          ],
          "name": "stdout"
        }
      ]
    },
    {
      "cell_type": "code",
      "metadata": {
        "id": "1nchApBMEkKh",
        "outputId": "99222e4f-c4fd-4508-816d-fda1612b001f",
        "colab": {
          "base_uri": "https://localhost:8080/",
          "height": 70
        }
      },
      "source": [
        "# Here all the iterables are True so all \n",
        "# will return True and the same will be printed \n",
        "print (all([True, True, True, True])) \n",
        "\n",
        "# Here the method will short-circuit at the \n",
        "# first item (False) and will return False. \n",
        "print (all([False, True, True, False])) \n",
        "\n",
        "# This statement will return False, as no \n",
        "# True is found in the iterables \n",
        "print (all([False, False, False]))"
      ],
      "execution_count": null,
      "outputs": [
        {
          "output_type": "stream",
          "text": [
            "True\n",
            "False\n",
            "False\n"
          ],
          "name": "stdout"
        }
      ]
    },
    {
      "cell_type": "markdown",
      "metadata": {
        "id": "sHljRuiRGWFr"
      },
      "source": [
        "### Membership & Indentify Operators"
      ]
    },
    {
      "cell_type": "code",
      "metadata": {
        "id": "9hT9GNDrGaiY",
        "outputId": "45a0df06-3463-4d23-c24b-1085480f74e8",
        "colab": {
          "base_uri": "https://localhost:8080/",
          "height": 34
        }
      },
      "source": [
        "# Python program to illustrate \n",
        "# Finding common member in list \n",
        "# using 'in' operator \n",
        "list1=[1,2,3,4,5] \n",
        "list2=[6,7,8,9] \n",
        "for item in list1: \n",
        "\tif item in list2: \n",
        "\t\tprint(\"overlapping\")\t \n",
        "else: \n",
        "\tprint(\"not overlapping\") "
      ],
      "execution_count": null,
      "outputs": [
        {
          "output_type": "stream",
          "text": [
            "not overlapping\n"
          ],
          "name": "stdout"
        }
      ]
    },
    {
      "cell_type": "code",
      "metadata": {
        "id": "WVfjz1epGgtX",
        "outputId": "57b82c09-704b-409a-b4ce-7000039e1b1c",
        "colab": {
          "base_uri": "https://localhost:8080/",
          "height": 52
        }
      },
      "source": [
        "# Python program to illustrate \n",
        "# not 'in' operator \n",
        "x = 24\n",
        "y = 20\n",
        "list = [10, 20, 30, 40, 50 ]; \n",
        "\n",
        "if ( x not in list ): \n",
        "  print(\"x is NOT present in given list\") \n",
        "else: \n",
        "  print(\"x is present in given list\") \n",
        "\n",
        "if ( y in list ): \n",
        "  print(\"y is present in given list\") \n",
        "else: \n",
        "  print(\"y is NOT present in given list\") "
      ],
      "execution_count": null,
      "outputs": [
        {
          "output_type": "stream",
          "text": [
            "x is NOT present in given list\n",
            "y is present in given list\n"
          ],
          "name": "stdout"
        }
      ]
    },
    {
      "cell_type": "code",
      "metadata": {
        "id": "5wXcYy7FGw7Z",
        "outputId": "8a0051cf-ce6b-4c91-ea21-1ca8043e3fc7",
        "colab": {
          "base_uri": "https://localhost:8080/",
          "height": 34
        }
      },
      "source": [
        "# Python program to illustrate the use \n",
        "# of 'is' identity operator \n",
        "x = 5\n",
        "if (type(x) is int): \n",
        "\tprint(\"true\") \n",
        "else: \n",
        "\tprint(\"false\") "
      ],
      "execution_count": null,
      "outputs": [
        {
          "output_type": "stream",
          "text": [
            "true\n"
          ],
          "name": "stdout"
        }
      ]
    },
    {
      "cell_type": "code",
      "metadata": {
        "id": "QLLgvBckGzFG",
        "outputId": "cba324bf-d63e-4880-a477-bffc54141248",
        "colab": {
          "base_uri": "https://localhost:8080/",
          "height": 34
        }
      },
      "source": [
        "# Python program to illustrate the \n",
        "# use of 'is not' identity operator \n",
        "x = 5.2\n",
        "if (type(x) is not int): \n",
        "\tprint(\"true\") \n",
        "else: \n",
        "\tprint(\"false\") "
      ],
      "execution_count": null,
      "outputs": [
        {
          "output_type": "stream",
          "text": [
            "true\n"
          ],
          "name": "stdout"
        }
      ]
    },
    {
      "cell_type": "markdown",
      "metadata": {
        "id": "n2fNQugRw7WG"
      },
      "source": [
        "# Flow Control"
      ]
    },
    {
      "cell_type": "markdown",
      "metadata": {
        "id": "C0UFyDIAw_1E"
      },
      "source": [
        "### If"
      ]
    },
    {
      "cell_type": "markdown",
      "metadata": {
        "id": "mGnd7g2b0cD1"
      },
      "source": [
        "If statement: if statement is the most simple decision making statement. It is used to decide whether a certain statement or block of statements will be executed or not i.e if a certain condition is true then a block of statement is executed otherwise not.\n"
      ]
    },
    {
      "cell_type": "code",
      "metadata": {
        "id": "RYFFILkew9fM",
        "outputId": "4f840ca1-3d62-4f5a-82e5-bd3d20c9da09",
        "colab": {
          "base_uri": "https://localhost:8080/",
          "height": 34
        }
      },
      "source": [
        "a = 33\n",
        "b = 200\n",
        "if b > a:\n",
        "  print(\"b is greater than a\")"
      ],
      "execution_count": null,
      "outputs": [
        {
          "output_type": "stream",
          "text": [
            "b is greater than a\n"
          ],
          "name": "stdout"
        }
      ]
    },
    {
      "cell_type": "markdown",
      "metadata": {
        "id": "-IQppSw60tcn"
      },
      "source": [
        "The if statement alone tells us that if a condition is true it will execute a block of statements and if the condition is false it won’t. But what if we want to do something else if the condition is false. Here comes the else statement. We can use the else statement with if statement to execute a block of code when the condition is false."
      ]
    },
    {
      "cell_type": "code",
      "metadata": {
        "id": "o-LqtJh9xL8i",
        "outputId": "e34c7129-043c-4716-9b41-e90018b8b2f0",
        "colab": {
          "base_uri": "https://localhost:8080/",
          "height": 34
        }
      },
      "source": [
        "a = 33\n",
        "b = 33\n",
        "if b > a:\n",
        "  print(\"b is greater than a\")\n",
        "elif a == b:\n",
        "  print(\"a and b are equal\")"
      ],
      "execution_count": null,
      "outputs": [
        {
          "output_type": "stream",
          "text": [
            "a and b are equal\n"
          ],
          "name": "stdout"
        }
      ]
    },
    {
      "cell_type": "code",
      "metadata": {
        "id": "Cz-qFCYVxX2n",
        "outputId": "06260ac6-4be0-41b3-fbdb-d0412fd2891d",
        "colab": {
          "base_uri": "https://localhost:8080/",
          "height": 34
        }
      },
      "source": [
        "# The else keyword catches anything which isn't caught by the preceding conditions.\n",
        "a = 200\n",
        "b = 33\n",
        "if b > a:\n",
        "  print(\"b is greater than a\")\n",
        "elif a == b:\n",
        "  print(\"a and b are equal\")\n",
        "else:\n",
        "  print(\"a is greater than b\")"
      ],
      "execution_count": null,
      "outputs": [
        {
          "output_type": "stream",
          "text": [
            "a is greater than b\n"
          ],
          "name": "stdout"
        }
      ]
    },
    {
      "cell_type": "markdown",
      "metadata": {
        "id": "nHBwRRBm1LVG"
      },
      "source": [
        "Whenever there is only a single statement to be executed inside the if block then shorthand if can be used. The statement can be put on the same line as the if statement."
      ]
    },
    {
      "cell_type": "code",
      "metadata": {
        "id": "eDvPBXLWxlkH",
        "outputId": "0cc812e3-4dcd-4a1f-c7ba-ab9f15a5f77c",
        "colab": {
          "base_uri": "https://localhost:8080/",
          "height": 34
        }
      },
      "source": [
        "# Short Hand If - If you have only one statement to execute, you can put it on the same line as the if statement.\n",
        "if a > b: print(\"a is greater than b\")"
      ],
      "execution_count": null,
      "outputs": [
        {
          "output_type": "stream",
          "text": [
            "a is greater than b\n"
          ],
          "name": "stdout"
        }
      ]
    },
    {
      "cell_type": "code",
      "metadata": {
        "id": "fl5G8sDBxrZA",
        "outputId": "8b7a56f4-5ac3-4af4-a490-2d7832166bfe",
        "colab": {
          "base_uri": "https://localhost:8080/",
          "height": 34
        }
      },
      "source": [
        "# The and keyword is a logical operator, and is used to combine conditional statements:\n",
        "a = 200\n",
        "b = 33\n",
        "c = 500\n",
        "if a > b and c > a:\n",
        "  print(\"Both conditions are True\")"
      ],
      "execution_count": null,
      "outputs": [
        {
          "output_type": "stream",
          "text": [
            "Both conditions are True\n"
          ],
          "name": "stdout"
        }
      ]
    },
    {
      "cell_type": "code",
      "metadata": {
        "id": "K-IC9Tqlx9Zx",
        "outputId": "7051a8cf-69a5-40d7-951b-62fe7ca959a2",
        "colab": {
          "base_uri": "https://localhost:8080/",
          "height": 34
        }
      },
      "source": [
        "# The or keyword is a logical operator, and is used to combine conditional statements:\n",
        "a = 200\n",
        "b = 33\n",
        "c = 500\n",
        "if a > b and c > a:\n",
        "  print(\"At least one of the conditions is True\")"
      ],
      "execution_count": null,
      "outputs": [
        {
          "output_type": "stream",
          "text": [
            "At least one of the conditions is True\n"
          ],
          "name": "stdout"
        }
      ]
    },
    {
      "cell_type": "markdown",
      "metadata": {
        "id": "FsmclrAj0_vK"
      },
      "source": [
        "A nested if is an if statement that is the target of another if statement. Nested if statements means an if statement inside another if statement. Yes, Python allows us to nest if statements within if statements. i.e, we can place an if statement inside another if statement."
      ]
    },
    {
      "cell_type": "code",
      "metadata": {
        "id": "WTdrfdn_yDkx",
        "outputId": "376b3557-6953-4a33-fd83-a21b240a07e8",
        "colab": {
          "base_uri": "https://localhost:8080/",
          "height": 52
        }
      },
      "source": [
        "# You can have if statements inside if statements, this is called nested if statements.\n",
        "x = 41\n",
        "\n",
        "if x > 10:\n",
        "  print(\"Above ten,\")\n",
        "  if x > 20:\n",
        "    print(\"and also above 20!\")\n",
        "  else:\n",
        "    print(\"but not above 20.\")"
      ],
      "execution_count": null,
      "outputs": [
        {
          "output_type": "stream",
          "text": [
            "Above ten,\n",
            "and also above 20!\n"
          ],
          "name": "stdout"
        }
      ]
    },
    {
      "cell_type": "markdown",
      "metadata": {
        "id": "LDx_R5r3yf3d"
      },
      "source": [
        "### While loop"
      ]
    },
    {
      "cell_type": "code",
      "metadata": {
        "id": "C8xc9yBxyiT8",
        "outputId": "53a077db-cbe1-48bb-d4ab-03c0823e4c13",
        "colab": {
          "base_uri": "https://localhost:8080/",
          "height": 105
        }
      },
      "source": [
        "# With the while loop we can execute a set of statements as long as a condition is true.\n",
        "i = 1\n",
        "while i < 6:\n",
        "  print(i)\n",
        "  i += 1"
      ],
      "execution_count": null,
      "outputs": [
        {
          "output_type": "stream",
          "text": [
            "1\n",
            "2\n",
            "3\n",
            "4\n",
            "5\n"
          ],
          "name": "stdout"
        }
      ]
    },
    {
      "cell_type": "code",
      "metadata": {
        "id": "wgeI6hSAytmF"
      },
      "source": [
        "# Note: remember to increment i, or else the loop will continue forever."
      ],
      "execution_count": null,
      "outputs": []
    },
    {
      "cell_type": "code",
      "metadata": {
        "id": "--IbqefVyxBP",
        "outputId": "2072f432-a91e-451b-e1bf-3d15f81f43f4",
        "colab": {
          "base_uri": "https://localhost:8080/",
          "height": 70
        }
      },
      "source": [
        "# With the break statement we can stop the loop even if the while condition is true:\n",
        "i = 1\n",
        "while i < 6:\n",
        "  print(i)\n",
        "  if i == 3:\n",
        "    break\n",
        "  i += 1"
      ],
      "execution_count": null,
      "outputs": [
        {
          "output_type": "stream",
          "text": [
            "1\n",
            "2\n",
            "3\n"
          ],
          "name": "stdout"
        }
      ]
    },
    {
      "cell_type": "code",
      "metadata": {
        "id": "uJvmaituy9NY",
        "outputId": "70363849-58e7-4c01-ae6f-38a48557972a",
        "colab": {
          "base_uri": "https://localhost:8080/",
          "height": 105
        }
      },
      "source": [
        "# With the continue statement we can stop the current iteration, and continue with the next:\n",
        "i = 0\n",
        "while i < 6:\n",
        "  i += 1\n",
        "  if i == 3:\n",
        "    continue\n",
        "  print(i)"
      ],
      "execution_count": null,
      "outputs": [
        {
          "output_type": "stream",
          "text": [
            "1\n",
            "2\n",
            "4\n",
            "5\n",
            "6\n"
          ],
          "name": "stdout"
        }
      ]
    },
    {
      "cell_type": "code",
      "metadata": {
        "id": "PIPJSaY01-gW",
        "outputId": "9c04ea73-1776-4942-fa2c-9ba2ad27ae68",
        "colab": {
          "base_uri": "https://localhost:8080/",
          "height": 105
        }
      },
      "source": [
        "# Python program to illustrate \n",
        "# Single statement while block \n",
        "count = 0\n",
        "while (count < 5): count += 1; print(\"Hello Geek\") "
      ],
      "execution_count": null,
      "outputs": [
        {
          "output_type": "stream",
          "text": [
            "Hello Geek\n",
            "Hello Geek\n",
            "Hello Geek\n",
            "Hello Geek\n",
            "Hello Geek\n"
          ],
          "name": "stdout"
        }
      ]
    },
    {
      "cell_type": "markdown",
      "metadata": {
        "id": "Z_QVzhiEzJj0"
      },
      "source": [
        "### For Loop"
      ]
    },
    {
      "cell_type": "code",
      "metadata": {
        "id": "ORmN4aiNzMDl",
        "outputId": "2a9a728f-bc5c-4e22-ee1e-c8339abcc761",
        "colab": {
          "base_uri": "https://localhost:8080/",
          "height": 70
        }
      },
      "source": [
        "# Print each items in a list:\n",
        "fruits = [\"apple\", \"banana\", \"cherry\"]\n",
        "for x in fruits:\n",
        "  print(x)"
      ],
      "execution_count": null,
      "outputs": [
        {
          "output_type": "stream",
          "text": [
            "apple\n",
            "banana\n",
            "cherry\n"
          ],
          "name": "stdout"
        }
      ]
    },
    {
      "cell_type": "code",
      "metadata": {
        "id": "3HgIh4LBziZm",
        "outputId": "8600f9e5-feda-4f9c-b74a-181befa45b5f",
        "colab": {
          "base_uri": "https://localhost:8080/",
          "height": 123
        }
      },
      "source": [
        "# Even strings are iterable objects, they contain a sequence of characters:\n",
        "for x in \"banana\":\n",
        "  print(x)"
      ],
      "execution_count": null,
      "outputs": [
        {
          "output_type": "stream",
          "text": [
            "b\n",
            "a\n",
            "n\n",
            "a\n",
            "n\n",
            "a\n"
          ],
          "name": "stdout"
        }
      ]
    },
    {
      "cell_type": "markdown",
      "metadata": {
        "id": "Za2MekOG1bZI"
      },
      "source": [
        "### Chaining comparison operators"
      ]
    },
    {
      "cell_type": "code",
      "metadata": {
        "id": "ZkECPT_f1doD",
        "outputId": "b86419be-d190-4f8e-dc01-2c36cc5e1ada",
        "colab": {
          "base_uri": "https://localhost:8080/",
          "height": 105
        }
      },
      "source": [
        "# Python code to illustrate chaining comparison operators \n",
        "x = 5\n",
        "print(1 < x < 10) \n",
        "print(10 < x < 20 ) \n",
        "print(x < 10 < x*10 < 100) \n",
        "print(10 > x <= 9) \n",
        "print(5 == x > 4)"
      ],
      "execution_count": null,
      "outputs": [
        {
          "output_type": "stream",
          "text": [
            "True\n",
            "False\n",
            "True\n",
            "True\n",
            "True\n"
          ],
          "name": "stdout"
        }
      ]
    },
    {
      "cell_type": "markdown",
      "metadata": {
        "id": "XfBJzJ_N35M5"
      },
      "source": [
        "### Looping Techniques"
      ]
    },
    {
      "cell_type": "code",
      "metadata": {
        "id": "MvWJ0ewA371G",
        "outputId": "560f8f74-bd6c-4796-9875-b60a2077e1c3",
        "colab": {
          "base_uri": "https://localhost:8080/",
          "height": 87
        }
      },
      "source": [
        "# enumerate()\n",
        "for key, value in enumerate(['The', 'Big', 'Bang', 'Theory']): \n",
        "\tprint(key, value)"
      ],
      "execution_count": null,
      "outputs": [
        {
          "output_type": "stream",
          "text": [
            "0 The\n",
            "1 Big\n",
            "2 Bang\n",
            "3 Theory\n"
          ],
          "name": "stdout"
        }
      ]
    },
    {
      "cell_type": "code",
      "metadata": {
        "id": "-IfDmrAO4Fhj",
        "outputId": "6afe65b8-2b7e-4630-daa4-914bdfcdc201",
        "colab": {
          "base_uri": "https://localhost:8080/",
          "height": 70
        }
      },
      "source": [
        "# python code to demonstrate working of zip() \n",
        "\n",
        "# initializing list \n",
        "questions = ['name', 'colour', 'shape'] \n",
        "answers = ['apple', 'red', 'a circle'] \n",
        "\n",
        "# using zip() to combine two containers \n",
        "# and print values \n",
        "for question, answer in zip(questions, answers): \n",
        "\tprint('What is your {0}? I am {1}.'.format(question, answer)) \n"
      ],
      "execution_count": null,
      "outputs": [
        {
          "output_type": "stream",
          "text": [
            "What is your name? I am apple.\n",
            "What is your colour? I am red.\n",
            "What is your shape? I am a circle.\n"
          ],
          "name": "stdout"
        }
      ]
    },
    {
      "cell_type": "markdown",
      "metadata": {
        "id": "RUzGPHY2Hy-l"
      },
      "source": [
        "### Lambda"
      ]
    },
    {
      "cell_type": "code",
      "metadata": {
        "id": "vN8FuXmoH1Ir",
        "outputId": "9d616d15-a10f-41ab-dca2-c1a288763d8d",
        "colab": {
          "base_uri": "https://localhost:8080/",
          "height": 34
        }
      },
      "source": [
        "# Python program to demonstrate \n",
        "# lambda functions \n",
        "\n",
        "string ='GeeksforGeeks'\n",
        "# lambda returns a function object \n",
        "print(lambda string : string) "
      ],
      "execution_count": null,
      "outputs": [
        {
          "output_type": "stream",
          "text": [
            "<function <lambda> at 0x7f5a48ba6598>\n"
          ],
          "name": "stdout"
        }
      ]
    },
    {
      "cell_type": "code",
      "metadata": {
        "id": "N25XimC8H38B",
        "outputId": "888db23c-1ea7-47fa-b3c7-43d8aa5410e2",
        "colab": {
          "base_uri": "https://localhost:8080/",
          "height": 34
        }
      },
      "source": [
        "# Python program to demonstrate \n",
        "# lambda functions \n",
        "\n",
        "x =\"GeeksforGeeks\"\n",
        "# lambda gets pass to print \n",
        "(lambda x : print(x))(x) "
      ],
      "execution_count": null,
      "outputs": [
        {
          "output_type": "stream",
          "text": [
            "GeeksforGeeks\n"
          ],
          "name": "stdout"
        }
      ]
    },
    {
      "cell_type": "code",
      "metadata": {
        "id": "DDZsIO63IENU",
        "outputId": "951eaee6-4d64-4173-cae6-8d5e693a0388",
        "colab": {
          "base_uri": "https://localhost:8080/",
          "height": 52
        }
      },
      "source": [
        "# Python program to illustrate cube of a number \n",
        "# showing difference between def() and lambda(). \n",
        "\n",
        "def cube(y): \n",
        "\treturn y*y*y; \n",
        "\t\n",
        "g = lambda x: x*x*x \n",
        "print(g(5)) \n",
        "\t\n",
        "print(cube(5)) "
      ],
      "execution_count": null,
      "outputs": [
        {
          "output_type": "stream",
          "text": [
            "125\n",
            "125\n"
          ],
          "name": "stdout"
        }
      ]
    },
    {
      "cell_type": "code",
      "metadata": {
        "id": "X4s5iW9FIKPI",
        "outputId": "33f65937-65e4-48e5-f268-717aeb97c756",
        "colab": {
          "base_uri": "https://localhost:8080/",
          "height": 87
        }
      },
      "source": [
        "# The lambda function gets more helpful when used inside a function.\n",
        "# Python program to demonstrate \n",
        "# lmabda functions \n",
        "\n",
        "\n",
        "def power(n): \n",
        "\treturn lambda a : a ** n \n",
        "\n",
        "# base = lambda a : a**2 get \n",
        "# returned to base \n",
        "base = power(2) \n",
        "\n",
        "print(\"Now power is set to 2\") \n",
        "\n",
        "# when calling base it gets \n",
        "# executed with already set with 2 \n",
        "print(\"8 powerof 2 = \", base(8)) \n",
        "\n",
        "# base = lambda a : a**5 get \n",
        "# returned to base \n",
        "base = power(5) \n",
        "print(\"Now power is set to 5\") \n",
        "\n",
        "# when calling base it gets executed \n",
        "# with already set with newly 2 \n",
        "print(\"8 powerof 5 = \", base(8)) "
      ],
      "execution_count": null,
      "outputs": [
        {
          "output_type": "stream",
          "text": [
            "Now power is set to 2\n",
            "8 powerof 2 =  64\n",
            "Now power is set to 5\n",
            "8 powerof 5 =  32768\n"
          ],
          "name": "stdout"
        }
      ]
    },
    {
      "cell_type": "markdown",
      "metadata": {
        "id": "nHohn2dVIxOq"
      },
      "source": [
        "### Global and Local Variables"
      ]
    },
    {
      "cell_type": "code",
      "metadata": {
        "id": "GqaVr91PIy2Q",
        "outputId": "b62e38fb-59dd-4580-9a5d-ada3a124496c",
        "colab": {
          "base_uri": "https://localhost:8080/",
          "height": 34
        }
      },
      "source": [
        "# This function uses global variable s \n",
        "def f(): \n",
        "\tprint(s) \n",
        "\n",
        "# Global scope \n",
        "s = \"I love Geeksforgeeks\"\n",
        "f() "
      ],
      "execution_count": null,
      "outputs": [
        {
          "output_type": "stream",
          "text": [
            "I love Geeksforgeeks\n"
          ],
          "name": "stdout"
        }
      ]
    },
    {
      "cell_type": "code",
      "metadata": {
        "id": "LLNnbQHGI2qf",
        "outputId": "7c58a437-62e6-4101-a4c5-70a5c997916c",
        "colab": {
          "base_uri": "https://localhost:8080/",
          "height": 52
        }
      },
      "source": [
        "# This function has a variable with \n",
        "# name same as s. \n",
        "def f(): \n",
        "\ts = \"Me too.\"\n",
        "\tprint(s) \n",
        "\n",
        "# Global scope \n",
        "s = \"I love Geeksforgeeks\"\n",
        "f() \n",
        "print(s) "
      ],
      "execution_count": null,
      "outputs": [
        {
          "output_type": "stream",
          "text": [
            "Me too.\n",
            "I love Geeksforgeeks\n"
          ],
          "name": "stdout"
        }
      ]
    },
    {
      "cell_type": "code",
      "metadata": {
        "id": "c-qq34JAJIoZ",
        "outputId": "f3bbb04d-45b1-4444-e21c-5d0b29442023",
        "colab": {
          "base_uri": "https://localhost:8080/",
          "height": 345
        }
      },
      "source": [
        "def f(): \n",
        "\tprint(s) \n",
        "\n",
        "\t# This program will NOT show error \n",
        "\t# if we comment below line. \n",
        "\ts = \"Me too.\"\n",
        "\n",
        "\tprint(s) \n",
        "\n",
        "# Global scope \n",
        "s = \"I love Geeksforgeeks\"\n",
        "f() \n",
        "print(s) "
      ],
      "execution_count": null,
      "outputs": [
        {
          "output_type": "error",
          "ename": "UnboundLocalError",
          "evalue": "ignored",
          "traceback": [
            "\u001b[0;31m---------------------------------------------------------------------------\u001b[0m",
            "\u001b[0;31mUnboundLocalError\u001b[0m                         Traceback (most recent call last)",
            "\u001b[0;32m<ipython-input-53-08db64b13e8e>\u001b[0m in \u001b[0;36m<module>\u001b[0;34m()\u001b[0m\n\u001b[1;32m     10\u001b[0m \u001b[0;31m# Global scope\u001b[0m\u001b[0;34m\u001b[0m\u001b[0;34m\u001b[0m\u001b[0;34m\u001b[0m\u001b[0m\n\u001b[1;32m     11\u001b[0m \u001b[0ms\u001b[0m \u001b[0;34m=\u001b[0m \u001b[0;34m\"I love Geeksforgeeks\"\u001b[0m\u001b[0;34m\u001b[0m\u001b[0;34m\u001b[0m\u001b[0m\n\u001b[0;32m---> 12\u001b[0;31m \u001b[0mf\u001b[0m\u001b[0;34m(\u001b[0m\u001b[0;34m)\u001b[0m\u001b[0;34m\u001b[0m\u001b[0;34m\u001b[0m\u001b[0m\n\u001b[0m\u001b[1;32m     13\u001b[0m \u001b[0mprint\u001b[0m\u001b[0;34m(\u001b[0m\u001b[0ms\u001b[0m\u001b[0;34m)\u001b[0m\u001b[0;34m\u001b[0m\u001b[0;34m\u001b[0m\u001b[0m\n",
            "\u001b[0;32m<ipython-input-53-08db64b13e8e>\u001b[0m in \u001b[0;36mf\u001b[0;34m()\u001b[0m\n\u001b[1;32m      1\u001b[0m \u001b[0;32mdef\u001b[0m \u001b[0mf\u001b[0m\u001b[0;34m(\u001b[0m\u001b[0;34m)\u001b[0m\u001b[0;34m:\u001b[0m\u001b[0;34m\u001b[0m\u001b[0;34m\u001b[0m\u001b[0m\n\u001b[0;32m----> 2\u001b[0;31m         \u001b[0mprint\u001b[0m\u001b[0;34m(\u001b[0m\u001b[0ms\u001b[0m\u001b[0;34m)\u001b[0m\u001b[0;34m\u001b[0m\u001b[0;34m\u001b[0m\u001b[0m\n\u001b[0m\u001b[1;32m      3\u001b[0m \u001b[0;34m\u001b[0m\u001b[0m\n\u001b[1;32m      4\u001b[0m         \u001b[0;31m# This program will NOT show error\u001b[0m\u001b[0;34m\u001b[0m\u001b[0;34m\u001b[0m\u001b[0;34m\u001b[0m\u001b[0m\n\u001b[1;32m      5\u001b[0m         \u001b[0;31m# if we comment below line.\u001b[0m\u001b[0;34m\u001b[0m\u001b[0;34m\u001b[0m\u001b[0;34m\u001b[0m\u001b[0m\n",
            "\u001b[0;31mUnboundLocalError\u001b[0m: local variable 's' referenced before assignment"
          ]
        }
      ]
    },
    {
      "cell_type": "code",
      "metadata": {
        "id": "JB_tPjH0JLzj",
        "outputId": "da20ec15-624a-40da-94a2-d01ea749e3ab",
        "colab": {
          "base_uri": "https://localhost:8080/",
          "height": 70
        }
      },
      "source": [
        "# This function modifies the global variable 's' \n",
        "def f(): \n",
        "\tglobal s \n",
        "\tprint(s) \n",
        "\ts = \"Look for Geeksforgeeks Python Section\"\n",
        "\tprint(s) \n",
        "\n",
        "# Global Scope \n",
        "s = \"Python is great!\"\n",
        "f() \n",
        "print(s) "
      ],
      "execution_count": null,
      "outputs": [
        {
          "output_type": "stream",
          "text": [
            "Python is great!\n",
            "Look for Geeksforgeeks Python Section\n",
            "Look for Geeksforgeeks Python Section\n"
          ],
          "name": "stdout"
        }
      ]
    },
    {
      "cell_type": "code",
      "metadata": {
        "id": "1ZdB-Qt1JVYT",
        "outputId": "bf0939f0-4aad-4259-dd1f-bbe18b010b05",
        "colab": {
          "base_uri": "https://localhost:8080/",
          "height": 141
        }
      },
      "source": [
        "# A good example\n",
        "a = 1\n",
        "\n",
        "# Uses global because there is no local 'a' \n",
        "def f(): \n",
        "\tprint('Inside f() : ', a) \n",
        "\n",
        "# Variable 'a' is redefined as a local \n",
        "def g():\t \n",
        "\ta = 2\n",
        "\tprint('Inside g() : ', a) \n",
        "\n",
        "# Uses global keyword to modify global 'a' \n",
        "def h():\t \n",
        "\tglobal a \n",
        "\ta = 3\n",
        "\tprint('Inside h() : ', a) \n",
        "\n",
        "# Global scope \n",
        "print('global : ',a) \n",
        "f() \n",
        "print('global : ',a) \n",
        "g() \n",
        "print('global : ',a) \n",
        "h() \n",
        "print('global : ',a) "
      ],
      "execution_count": null,
      "outputs": [
        {
          "output_type": "stream",
          "text": [
            "global :  1\n",
            "Inside f() :  1\n",
            "global :  1\n",
            "Inside g() :  2\n",
            "global :  1\n",
            "Inside h() :  3\n",
            "global :  3\n"
          ],
          "name": "stdout"
        }
      ]
    },
    {
      "cell_type": "code",
      "metadata": {
        "id": "4BvfRX1hJZmI"
      },
      "source": [
        ""
      ],
      "execution_count": null,
      "outputs": []
    }
  ]
}