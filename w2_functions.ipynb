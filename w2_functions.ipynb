{
  "nbformat": 4,
  "nbformat_minor": 0,
  "metadata": {
    "colab": {
      "name": "w2_functions.ipynb",
      "provenance": []
    },
    "kernelspec": {
      "name": "python3",
      "display_name": "Python 3"
    }
  },
  "cells": [
    {
      "cell_type": "code",
      "metadata": {
        "id": "6K1lnhNy46Rw",
        "outputId": "79b813e2-fb2d-48e2-d7c2-bac1f0d4dae7",
        "colab": {
          "base_uri": "https://localhost:8080/",
          "height": 52
        }
      },
      "source": [
        "# A simple Python function to check \n",
        "# whether x is even or odd \n",
        "def height_evaluation(x): \n",
        "\tif (x > 170): \n",
        "\t\tprint(\"Tall\")\n",
        "\telse: \n",
        "\t\tprint(\"Short\")\n",
        "\n",
        "# Driver code \n",
        "height_evaluation(171) \n",
        "height_evaluation(165) "
      ],
      "execution_count": null,
      "outputs": [
        {
          "output_type": "stream",
          "text": [
            "Tall\n",
            "Short\n"
          ],
          "name": "stdout"
        }
      ]
    },
    {
      "cell_type": "markdown",
      "metadata": {
        "id": "pCMnOdhbD3Tv"
      },
      "source": [
        "### Passing a List as an Argument"
      ]
    },
    {
      "cell_type": "code",
      "metadata": {
        "id": "EwgOQ5laD5DY",
        "outputId": "94e91710-2d5e-44d4-bf95-8642ec2215a8",
        "colab": {
          "base_uri": "https://localhost:8080/",
          "height": 70
        }
      },
      "source": [
        "def my_function(course):\n",
        "  for x in course:\n",
        "    print(x)\n",
        "\n",
        "courses = [\"AI\", \"Medicine\", \"Machine learning\"]\n",
        "\n",
        "my_function(courses)"
      ],
      "execution_count": null,
      "outputs": [
        {
          "output_type": "stream",
          "text": [
            "AI\n",
            "Medicine\n",
            "Machine learning\n"
          ],
          "name": "stdout"
        }
      ]
    },
    {
      "cell_type": "markdown",
      "metadata": {
        "id": "LkX4joLwEFkt"
      },
      "source": [
        "### Return Values"
      ]
    },
    {
      "cell_type": "code",
      "metadata": {
        "id": "jz0vawRsEHc_",
        "outputId": "98406e2c-54d2-4715-e4ec-5500e6ab09e6",
        "colab": {
          "base_uri": "https://localhost:8080/",
          "height": 70
        }
      },
      "source": [
        "def my_function(x):\n",
        "  return 5 * x\n",
        "\n",
        "print(my_function(3))\n",
        "print(my_function(5))\n",
        "print(my_function(9))"
      ],
      "execution_count": null,
      "outputs": [
        {
          "output_type": "stream",
          "text": [
            "15\n",
            "25\n",
            "45\n"
          ],
          "name": "stdout"
        }
      ]
    },
    {
      "cell_type": "markdown",
      "metadata": {
        "id": "Czf9hFGy6bAL"
      },
      "source": [
        "### Default arguments"
      ]
    },
    {
      "cell_type": "markdown",
      "metadata": {
        "id": "d11K7JK96eoS"
      },
      "source": [
        "A default argument is a parameter that assumes a default value if a value is not provided in the function call for that argument.The following example illustrates Default arguments."
      ]
    },
    {
      "cell_type": "code",
      "metadata": {
        "id": "IaFe-RHu6HNM",
        "outputId": "1164ef7b-c409-4a64-9aeb-6947b5531191",
        "colab": {
          "base_uri": "https://localhost:8080/",
          "height": 52
        }
      },
      "source": [
        "# Python program to demonstrate \n",
        "# default arguments \n",
        "def myFun(x, y=50): \n",
        "\tprint(\"x: \", x) \n",
        "\tprint(\"y: \", y) \n",
        "\n",
        "# Driver code (We call myFun() with only \n",
        "# argument) \n",
        "myFun(10)"
      ],
      "execution_count": null,
      "outputs": [
        {
          "output_type": "stream",
          "text": [
            "x:  10\n",
            "y:  50\n"
          ],
          "name": "stdout"
        }
      ]
    },
    {
      "cell_type": "markdown",
      "metadata": {
        "id": "SB9IUCsc6sxb"
      },
      "source": [
        "### Keyword arguments"
      ]
    },
    {
      "cell_type": "markdown",
      "metadata": {
        "id": "cagAojvu6wQy"
      },
      "source": [
        "The idea is to allow caller to specify argument name with values so that caller does not need to remember order of parameters."
      ]
    },
    {
      "cell_type": "code",
      "metadata": {
        "id": "czihGBin6vQW",
        "outputId": "9703ae2c-22cc-4a40-fc10-00fc36de0006",
        "colab": {
          "base_uri": "https://localhost:8080/",
          "height": 52
        }
      },
      "source": [
        "# Python program to demonstrate Keyword Arguments \n",
        "def student(firstname, lastname): \n",
        "\tprint(firstname, lastname) \n",
        "\t\n",
        "\t\n",
        "# Keyword arguments\t\t\t\t \n",
        "student(firstname ='Khanh', lastname ='Lee')\t \n",
        "student(lastname ='Lee', firstname ='Khanh') "
      ],
      "execution_count": null,
      "outputs": [
        {
          "output_type": "stream",
          "text": [
            "Khanh Lee\n",
            "Khanh Lee\n"
          ],
          "name": "stdout"
        }
      ]
    },
    {
      "cell_type": "markdown",
      "metadata": {
        "id": "mMjgC6uy67jf"
      },
      "source": [
        "### *argv and **kwargv"
      ]
    },
    {
      "cell_type": "markdown",
      "metadata": {
        "id": "GGlvP47h6_BH"
      },
      "source": [
        "We can have both normal and keyword variable number of arguments. Please see this for details."
      ]
    },
    {
      "cell_type": "code",
      "metadata": {
        "id": "Y5Xev0KF6N4r",
        "outputId": "5a71fee5-86a8-4ba0-da66-92a23915ac5c",
        "colab": {
          "base_uri": "https://localhost:8080/",
          "height": 105
        }
      },
      "source": [
        "# Python program to illustrate \n",
        "# *args for variable number of arguments\n",
        "def myFun(*argv): \n",
        "\tfor arg in argv: \n",
        "\t\tprint (arg)\n",
        "\n",
        "myFun('Hello', 'Welcome', 'to', 'Programming', 'Class') "
      ],
      "execution_count": null,
      "outputs": [
        {
          "output_type": "stream",
          "text": [
            "Hello\n",
            "Welcome\n",
            "to\n",
            "Programming\n",
            "Class\n"
          ],
          "name": "stdout"
        }
      ]
    },
    {
      "cell_type": "code",
      "metadata": {
        "id": "3XlhUNCX8HFo",
        "outputId": "a141e36c-3ca0-4d9d-ebde-f80aeb59989d",
        "colab": {
          "base_uri": "https://localhost:8080/",
          "height": 105
        }
      },
      "source": [
        "# Python program to illustrate \n",
        "# *args with first extra argument\n",
        "def myFun(arg1, *argv):\n",
        "\tprint (\"First argument :\", arg1)\n",
        "\tfor arg in argv:\n",
        "\t\tprint(\"Next argument through *argv :\", arg)\n",
        "\n",
        "myFun('Hello', 'Welcome', 'to', 'Programming', 'Class')"
      ],
      "execution_count": null,
      "outputs": [
        {
          "output_type": "stream",
          "text": [
            "First argument : Hello\n",
            "Next argument through *argv : Welcome\n",
            "Next argument through *argv : to\n",
            "Next argument through *argv : Programming\n",
            "Next argument through *argv : Class\n"
          ],
          "name": "stdout"
        }
      ]
    },
    {
      "cell_type": "code",
      "metadata": {
        "id": "vjLb56s88Kyo",
        "outputId": "24c6d5ba-9c68-4217-d999-bcdcd3ed1600",
        "colab": {
          "base_uri": "https://localhost:8080/",
          "height": 70
        }
      },
      "source": [
        "# Python program to illustrate \n",
        "# *kargs for variable number of keyword arguments\n",
        "\n",
        "def myFun(**kwargs): \n",
        "\tfor key, value in kwargs.items():\n",
        "\t\tprint (\"%s = %s\" %(key, value))\n",
        "\n",
        "# Driver code\n",
        "myFun(first ='AI', mid ='in', last='Medicine')"
      ],
      "execution_count": null,
      "outputs": [
        {
          "output_type": "stream",
          "text": [
            "first = AI\n",
            "mid = in\n",
            "last = Medicine\n"
          ],
          "name": "stdout"
        }
      ]
    },
    {
      "cell_type": "code",
      "metadata": {
        "id": "fTHcxr4J8hzd",
        "outputId": "e320cf20-1e00-44e9-f2a2-6b09f9c2e3f2",
        "colab": {
          "base_uri": "https://localhost:8080/",
          "height": 70
        }
      },
      "source": [
        "# Python program to illustrate **kargs for \n",
        "# variable number of keyword arguments with\n",
        "# one extra argument.\n",
        "\n",
        "def myFun(arg1, **kwargs): \n",
        "\tfor key, value in kwargs.items():\n",
        "\t\tprint (\"%s = %s\" %(key, value))\n",
        "\n",
        "# Driver code\n",
        "myFun(\"Hi\", first ='AI', mid ='in', last='Medicine')"
      ],
      "execution_count": null,
      "outputs": [
        {
          "output_type": "stream",
          "text": [
            "first = AI\n",
            "mid = in\n",
            "last = Medicine\n"
          ],
          "name": "stdout"
        }
      ]
    },
    {
      "cell_type": "markdown",
      "metadata": {
        "id": "RUzGPHY2Hy-l"
      },
      "source": [
        "### Lambda"
      ]
    },
    {
      "cell_type": "code",
      "metadata": {
        "id": "hjvDzZXEEWla",
        "outputId": "c5c39f38-9b0a-4bda-ab89-ad74ffe5b670",
        "colab": {
          "base_uri": "https://localhost:8080/",
          "height": 34
        }
      },
      "source": [
        "# Add 10 to argument a, and return the result:\n",
        "x = lambda a : a + 10\n",
        "print(x(5))"
      ],
      "execution_count": null,
      "outputs": [
        {
          "output_type": "stream",
          "text": [
            "15\n"
          ],
          "name": "stdout"
        }
      ]
    },
    {
      "cell_type": "code",
      "metadata": {
        "id": "vN8FuXmoH1Ir",
        "outputId": "9d616d15-a10f-41ab-dca2-c1a288763d8d",
        "colab": {
          "base_uri": "https://localhost:8080/",
          "height": 34
        }
      },
      "source": [
        "# Python program to demonstrate \n",
        "# lambda functions \n",
        "\n",
        "string ='GeeksforGeeks'\n",
        "# lambda returns a function object \n",
        "print(lambda string : string) "
      ],
      "execution_count": null,
      "outputs": [
        {
          "output_type": "stream",
          "text": [
            "<function <lambda> at 0x7f5a48ba6598>\n"
          ],
          "name": "stdout"
        }
      ]
    },
    {
      "cell_type": "code",
      "metadata": {
        "id": "N25XimC8H38B",
        "outputId": "b1904b94-fa83-4477-8d58-cb98d81cbd4f",
        "colab": {
          "base_uri": "https://localhost:8080/",
          "height": 34
        }
      },
      "source": [
        "# Python program to demonstrate \n",
        "# lambda functions \n",
        "\n",
        "x =\"AI in Medicine\"\n",
        "# lambda gets pass to print \n",
        "(lambda x : print(x))(x) "
      ],
      "execution_count": null,
      "outputs": [
        {
          "output_type": "stream",
          "text": [
            "AI in Medicine\n"
          ],
          "name": "stdout"
        }
      ]
    },
    {
      "cell_type": "code",
      "metadata": {
        "id": "DDZsIO63IENU",
        "outputId": "951eaee6-4d64-4173-cae6-8d5e693a0388",
        "colab": {
          "base_uri": "https://localhost:8080/",
          "height": 52
        }
      },
      "source": [
        "# Python program to illustrate cube of a number \n",
        "# showing difference between def() and lambda(). \n",
        "\n",
        "def cube(y): \n",
        "\treturn y*y*y; \n",
        "\t\n",
        "g = lambda x: x*x*x \n",
        "print(g(5)) \n",
        "\t\n",
        "print(cube(5)) "
      ],
      "execution_count": null,
      "outputs": [
        {
          "output_type": "stream",
          "text": [
            "125\n",
            "125\n"
          ],
          "name": "stdout"
        }
      ]
    },
    {
      "cell_type": "code",
      "metadata": {
        "id": "X4s5iW9FIKPI",
        "outputId": "33f65937-65e4-48e5-f268-717aeb97c756",
        "colab": {
          "base_uri": "https://localhost:8080/",
          "height": 87
        }
      },
      "source": [
        "# The lambda function gets more helpful when used inside a function.\n",
        "# Python program to demonstrate \n",
        "# lmabda functions \n",
        "\n",
        "\n",
        "def power(n): \n",
        "\treturn lambda a : a ** n \n",
        "\n",
        "# base = lambda a : a**2 get \n",
        "# returned to base \n",
        "base = power(2) \n",
        "\n",
        "print(\"Now power is set to 2\") \n",
        "\n",
        "# when calling base it gets \n",
        "# executed with already set with 2 \n",
        "print(\"8 powerof 2 = \", base(8)) \n",
        "\n",
        "# base = lambda a : a**5 get \n",
        "# returned to base \n",
        "base = power(5) \n",
        "print(\"Now power is set to 5\") \n",
        "\n",
        "# when calling base it gets executed \n",
        "# with already set with newly 2 \n",
        "print(\"8 powerof 5 = \", base(8)) "
      ],
      "execution_count": null,
      "outputs": [
        {
          "output_type": "stream",
          "text": [
            "Now power is set to 2\n",
            "8 powerof 2 =  64\n",
            "Now power is set to 5\n",
            "8 powerof 5 =  32768\n"
          ],
          "name": "stdout"
        }
      ]
    },
    {
      "cell_type": "code",
      "metadata": {
        "id": "smqUUAIKEqsm",
        "outputId": "9b024675-4338-4192-b22a-d5696af337ab",
        "colab": {
          "base_uri": "https://localhost:8080/",
          "height": 34
        }
      },
      "source": [
        "# Multiply argument a with argument b and return the result:\n",
        "x = lambda a, b : a * b\n",
        "print(x(5, 6))"
      ],
      "execution_count": null,
      "outputs": [
        {
          "output_type": "stream",
          "text": [
            "30\n"
          ],
          "name": "stdout"
        }
      ]
    },
    {
      "cell_type": "code",
      "metadata": {
        "id": "rH7M58eoE16-",
        "outputId": "ded76a60-7bda-4bde-9529-f881bab81da1",
        "colab": {
          "base_uri": "https://localhost:8080/",
          "height": 34
        }
      },
      "source": [
        "# Summarize argument a, b, and c and return the result:\n",
        "x = lambda a, b, c : a + b + c\n",
        "print(x(5, 6, 2))"
      ],
      "execution_count": null,
      "outputs": [
        {
          "output_type": "stream",
          "text": [
            "13\n"
          ],
          "name": "stdout"
        }
      ]
    },
    {
      "cell_type": "markdown",
      "metadata": {
        "id": "nHohn2dVIxOq"
      },
      "source": [
        "### Global and Local Variables"
      ]
    },
    {
      "cell_type": "code",
      "metadata": {
        "id": "GqaVr91PIy2Q",
        "outputId": "a7730f37-4684-4190-dfea-d0eff9cfaa0f",
        "colab": {
          "base_uri": "https://localhost:8080/",
          "height": 34
        }
      },
      "source": [
        "# This function uses global variable s \n",
        "def f(): \n",
        "\tprint(s) \n",
        "\n",
        "# Global scope \n",
        "s = \"I love programming\"\n",
        "f() "
      ],
      "execution_count": null,
      "outputs": [
        {
          "output_type": "stream",
          "text": [
            "I love programming\n"
          ],
          "name": "stdout"
        }
      ]
    },
    {
      "cell_type": "code",
      "metadata": {
        "id": "LLNnbQHGI2qf",
        "outputId": "ddb6c45a-d984-4c27-cc7d-fe4522d774a6",
        "colab": {
          "base_uri": "https://localhost:8080/",
          "height": 52
        }
      },
      "source": [
        "# This function has a variable with \n",
        "# name same as s. \n",
        "def f(): \n",
        "\ts = \"Me too.\"\n",
        "\tprint(s) \n",
        "\n",
        "# Global scope \n",
        "s = \"I love programming\"\n",
        "f() \n",
        "print(s) "
      ],
      "execution_count": null,
      "outputs": [
        {
          "output_type": "stream",
          "text": [
            "Me too.\n",
            "I love programming\n"
          ],
          "name": "stdout"
        }
      ]
    },
    {
      "cell_type": "code",
      "metadata": {
        "id": "c-qq34JAJIoZ",
        "outputId": "f3bbb04d-45b1-4444-e21c-5d0b29442023",
        "colab": {
          "base_uri": "https://localhost:8080/",
          "height": 345
        }
      },
      "source": [
        "def f(): \n",
        "\tprint(s) \n",
        "\n",
        "\t# This program will NOT show error \n",
        "\t# if we comment below line. \n",
        "\ts = \"Me too.\"\n",
        "\n",
        "\tprint(s) \n",
        "\n",
        "# Global scope \n",
        "s = \"I love Programming\"\n",
        "f() \n",
        "print(s) "
      ],
      "execution_count": null,
      "outputs": [
        {
          "output_type": "error",
          "ename": "UnboundLocalError",
          "evalue": "ignored",
          "traceback": [
            "\u001b[0;31m---------------------------------------------------------------------------\u001b[0m",
            "\u001b[0;31mUnboundLocalError\u001b[0m                         Traceback (most recent call last)",
            "\u001b[0;32m<ipython-input-53-08db64b13e8e>\u001b[0m in \u001b[0;36m<module>\u001b[0;34m()\u001b[0m\n\u001b[1;32m     10\u001b[0m \u001b[0;31m# Global scope\u001b[0m\u001b[0;34m\u001b[0m\u001b[0;34m\u001b[0m\u001b[0;34m\u001b[0m\u001b[0m\n\u001b[1;32m     11\u001b[0m \u001b[0ms\u001b[0m \u001b[0;34m=\u001b[0m \u001b[0;34m\"I love Geeksforgeeks\"\u001b[0m\u001b[0;34m\u001b[0m\u001b[0;34m\u001b[0m\u001b[0m\n\u001b[0;32m---> 12\u001b[0;31m \u001b[0mf\u001b[0m\u001b[0;34m(\u001b[0m\u001b[0;34m)\u001b[0m\u001b[0;34m\u001b[0m\u001b[0;34m\u001b[0m\u001b[0m\n\u001b[0m\u001b[1;32m     13\u001b[0m \u001b[0mprint\u001b[0m\u001b[0;34m(\u001b[0m\u001b[0ms\u001b[0m\u001b[0;34m)\u001b[0m\u001b[0;34m\u001b[0m\u001b[0;34m\u001b[0m\u001b[0m\n",
            "\u001b[0;32m<ipython-input-53-08db64b13e8e>\u001b[0m in \u001b[0;36mf\u001b[0;34m()\u001b[0m\n\u001b[1;32m      1\u001b[0m \u001b[0;32mdef\u001b[0m \u001b[0mf\u001b[0m\u001b[0;34m(\u001b[0m\u001b[0;34m)\u001b[0m\u001b[0;34m:\u001b[0m\u001b[0;34m\u001b[0m\u001b[0;34m\u001b[0m\u001b[0m\n\u001b[0;32m----> 2\u001b[0;31m         \u001b[0mprint\u001b[0m\u001b[0;34m(\u001b[0m\u001b[0ms\u001b[0m\u001b[0;34m)\u001b[0m\u001b[0;34m\u001b[0m\u001b[0;34m\u001b[0m\u001b[0m\n\u001b[0m\u001b[1;32m      3\u001b[0m \u001b[0;34m\u001b[0m\u001b[0m\n\u001b[1;32m      4\u001b[0m         \u001b[0;31m# This program will NOT show error\u001b[0m\u001b[0;34m\u001b[0m\u001b[0;34m\u001b[0m\u001b[0;34m\u001b[0m\u001b[0m\n\u001b[1;32m      5\u001b[0m         \u001b[0;31m# if we comment below line.\u001b[0m\u001b[0;34m\u001b[0m\u001b[0;34m\u001b[0m\u001b[0;34m\u001b[0m\u001b[0m\n",
            "\u001b[0;31mUnboundLocalError\u001b[0m: local variable 's' referenced before assignment"
          ]
        }
      ]
    },
    {
      "cell_type": "code",
      "metadata": {
        "id": "JB_tPjH0JLzj",
        "outputId": "da20ec15-624a-40da-94a2-d01ea749e3ab",
        "colab": {
          "base_uri": "https://localhost:8080/",
          "height": 70
        }
      },
      "source": [
        "# This function modifies the global variable 's' \n",
        "def f(): \n",
        "\tglobal s \n",
        "\tprint(s) \n",
        "\ts = \"Look for Geeksforgeeks Python Section\"\n",
        "\tprint(s) \n",
        "\n",
        "# Global Scope \n",
        "s = \"Python is great!\"\n",
        "f() \n",
        "print(s) "
      ],
      "execution_count": null,
      "outputs": [
        {
          "output_type": "stream",
          "text": [
            "Python is great!\n",
            "Look for Geeksforgeeks Python Section\n",
            "Look for Geeksforgeeks Python Section\n"
          ],
          "name": "stdout"
        }
      ]
    },
    {
      "cell_type": "code",
      "metadata": {
        "id": "1ZdB-Qt1JVYT",
        "outputId": "bf0939f0-4aad-4259-dd1f-bbe18b010b05",
        "colab": {
          "base_uri": "https://localhost:8080/",
          "height": 141
        }
      },
      "source": [
        "# A good example\n",
        "a = 1\n",
        "\n",
        "# Uses global because there is no local 'a' \n",
        "def f(): \n",
        "\tprint('Inside f() : ', a) \n",
        "\n",
        "# Variable 'a' is redefined as a local \n",
        "def g():\t \n",
        "\ta = 2\n",
        "\tprint('Inside g() : ', a) \n",
        "\n",
        "# Uses global keyword to modify global 'a' \n",
        "def h():\t \n",
        "\tglobal a \n",
        "\ta = 3\n",
        "\tprint('Inside h() : ', a) \n",
        "\n",
        "# Global scope \n",
        "print('global : ',a) \n",
        "f() \n",
        "print('global : ',a) \n",
        "g() \n",
        "print('global : ',a) \n",
        "h() \n",
        "print('global : ',a) "
      ],
      "execution_count": null,
      "outputs": [
        {
          "output_type": "stream",
          "text": [
            "global :  1\n",
            "Inside f() :  1\n",
            "global :  1\n",
            "Inside g() :  2\n",
            "global :  1\n",
            "Inside h() :  3\n",
            "global :  3\n"
          ],
          "name": "stdout"
        }
      ]
    },
    {
      "cell_type": "code",
      "metadata": {
        "id": "4BvfRX1hJZmI"
      },
      "source": [
        ""
      ],
      "execution_count": null,
      "outputs": []
    }
  ]
}