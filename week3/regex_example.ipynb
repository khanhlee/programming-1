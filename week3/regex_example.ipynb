{
 "cells": [
  {
   "cell_type": "code",
   "execution_count": 3,
   "metadata": {
    "colab": {},
    "colab_type": "code",
    "id": "yrUY0ISrKKXh"
   },
   "outputs": [],
   "source": [
    "import re"
   ]
  },
  {
   "cell_type": "code",
   "execution_count": 4,
   "metadata": {
    "colab": {
     "base_uri": "https://localhost:8080/",
     "height": 34
    },
    "colab_type": "code",
    "id": "MiNzLizXKRU4",
    "outputId": "1fe74d5c-c6ed-4bea-c842-5370308cc346"
   },
   "outputs": [
    {
     "name": "stdout",
     "output_type": "stream",
     "text": [
      "['AI']\n"
     ]
    }
   ],
   "source": [
    "# Example of w+ and ^ Expression\n",
    "str_example = \"AI in Medicine\"\n",
    "r1 = re.findall(r\"^\\w+\",str_example)\n",
    "print(r1)"
   ]
  },
  {
   "cell_type": "code",
   "execution_count": 6,
   "metadata": {
    "colab": {
     "base_uri": "https://localhost:8080/",
     "height": 51
    },
    "colab_type": "code",
    "id": "wi6NGDaIK7fY",
    "outputId": "f86c8c5c-5f6f-4a33-9ac9-0ea4fc9f2a44"
   },
   "outputs": [
    {
     "name": "stdout",
     "output_type": "stream",
     "text": [
      "['Professional', 'Master', 'Program', 'AI', 'in', 'Medicine']\n",
      "['Profe', '', 'ional Ma', 'ter Program AI in Medicine']\n"
     ]
    }
   ],
   "source": [
    "print((re.split(r'\\s','Professional Master Program AI in Medicine')))\n",
    "print((re.split(r's','Professional Master Program AI in Medicine')))"
   ]
  },
  {
   "cell_type": "markdown",
   "metadata": {
    "colab_type": "text",
    "id": "e-Pr6ok1ZIld"
   },
   "source": [
    "### Method"
   ]
  },
  {
   "cell_type": "markdown",
   "metadata": {
    "colab_type": "text",
    "id": "iUC9MAtDrzHY"
   },
   "source": [
    "###Check if the string starts with \"Professional\" and ends with \"Medicine\":"
   ]
  },
  {
   "cell_type": "code",
   "execution_count": 7,
   "metadata": {
    "colab": {
     "base_uri": "https://localhost:8080/",
     "height": 34
    },
    "colab_type": "code",
    "id": "TYE72vhqZbdP",
    "outputId": "378b3b2d-0bc6-470c-9ad7-3a43c5e9b890"
   },
   "outputs": [
    {
     "name": "stdout",
     "output_type": "stream",
     "text": [
      "We found a match!\n"
     ]
    }
   ],
   "source": [
    "txt = \"Professional Master Program in AI in Medicine\"\n",
    "x = re.search(\"^Professional.*Medicine$\", txt)\n",
    "\n",
    "if x:\n",
    "  print(\"We found a match!\")\n",
    "else:\n",
    "  print(\"No match\")"
   ]
  },
  {
   "cell_type": "markdown",
   "metadata": {
    "colab_type": "text",
    "id": "hEW1jZbNCJsP"
   },
   "source": [
    "### The findall() function"
   ]
  },
  {
   "cell_type": "code",
   "execution_count": 8,
   "metadata": {
    "colab": {
     "base_uri": "https://localhost:8080/",
     "height": 34
    },
    "colab_type": "code",
    "id": "lY0NumFZCIIH",
    "outputId": "c2fa9d81-47a6-466d-b248-f82a4232a022"
   },
   "outputs": [
    {
     "name": "stdout",
     "output_type": "stream",
     "text": [
      "['in', 'in', 'in']\n"
     ]
    }
   ],
   "source": [
    "x = re.findall(\"in\", txt)\n",
    "print(x)"
   ]
  },
  {
   "cell_type": "code",
   "execution_count": 9,
   "metadata": {
    "colab": {
     "base_uri": "https://localhost:8080/",
     "height": 34
    },
    "colab_type": "code",
    "id": "E37rNws3CY5G",
    "outputId": "8ddcf5fd-7363-4ef5-9a3e-5b84c59b1823"
   },
   "outputs": [
    {
     "name": "stdout",
     "output_type": "stream",
     "text": [
      "[]\n"
     ]
    }
   ],
   "source": [
    "y = re.findall(\"at\", txt)\n",
    "print(y)"
   ]
  },
  {
   "cell_type": "markdown",
   "metadata": {
    "colab_type": "text",
    "id": "dlzk7y88Cntg"
   },
   "source": [
    "### The search() function"
   ]
  },
  {
   "cell_type": "code",
   "execution_count": 10,
   "metadata": {
    "colab": {
     "base_uri": "https://localhost:8080/",
     "height": 34
    },
    "colab_type": "code",
    "id": "qhKPKcmXCpuL",
    "outputId": "0905d1d2-e882-4bc3-f66a-9e41c43c0021"
   },
   "outputs": [
    {
     "name": "stdout",
     "output_type": "stream",
     "text": [
      "The first white-space character is located in position: 12\n"
     ]
    }
   ],
   "source": [
    "x = re.search(\"\\s\", txt)\n",
    "print(\"The first white-space character is located in position:\", x.start()) "
   ]
  },
  {
   "cell_type": "code",
   "execution_count": 11,
   "metadata": {
    "colab": {
     "base_uri": "https://localhost:8080/",
     "height": 34
    },
    "colab_type": "code",
    "id": "3f6IiZPpC6ac",
    "outputId": "37326b6d-9d26-43b2-bd8b-c6f6df73fdcb"
   },
   "outputs": [
    {
     "name": "stdout",
     "output_type": "stream",
     "text": [
      "None\n"
     ]
    }
   ],
   "source": [
    "x = re.search(\"at\", txt)\n",
    "print(x)"
   ]
  },
  {
   "cell_type": "markdown",
   "metadata": {
    "colab_type": "text",
    "id": "loYTcVGTDB0Q"
   },
   "source": [
    "### The split() function"
   ]
  },
  {
   "cell_type": "code",
   "execution_count": 12,
   "metadata": {
    "colab": {
     "base_uri": "https://localhost:8080/",
     "height": 34
    },
    "colab_type": "code",
    "id": "NmHlEwaGDDvJ",
    "outputId": "3c8167fa-23b6-41ce-d2b3-d4dc98198338"
   },
   "outputs": [
    {
     "name": "stdout",
     "output_type": "stream",
     "text": [
      "['Professional', 'Master', 'Program', 'in', 'AI', 'in', 'Medicine']\n"
     ]
    }
   ],
   "source": [
    "x = re.split(\"\\s\", txt)\n",
    "print(x)"
   ]
  },
  {
   "cell_type": "code",
   "execution_count": 14,
   "metadata": {
    "colab": {
     "base_uri": "https://localhost:8080/",
     "height": 34
    },
    "colab_type": "code",
    "id": "TdsMvLeqDJNn",
    "outputId": "eb1b631d-dd90-4da9-bdf5-c5d51b10d6d9"
   },
   "outputs": [
    {
     "name": "stdout",
     "output_type": "stream",
     "text": [
      "['Professional', 'Master', 'Program in AI in Medicine']\n"
     ]
    }
   ],
   "source": [
    "# Split the string only at the first occurrence\n",
    "x = re.split(\"\\s\", txt, 2)\n",
    "print(x)"
   ]
  },
  {
   "cell_type": "markdown",
   "metadata": {
    "colab_type": "text",
    "id": "TcpOr0HNDXah"
   },
   "source": [
    "### The sub() Function"
   ]
  },
  {
   "cell_type": "code",
   "execution_count": 15,
   "metadata": {
    "colab": {
     "base_uri": "https://localhost:8080/",
     "height": 34
    },
    "colab_type": "code",
    "id": "nPDXJi7lDZe2",
    "outputId": "e9310499-b614-4c7f-b486-25526196150f"
   },
   "outputs": [
    {
     "name": "stdout",
     "output_type": "stream",
     "text": [
      "Professional_Master_Program_in_AI_in_Medicine\n"
     ]
    }
   ],
   "source": [
    "# Replace every white-space character with the '_':\n",
    "x = re.sub(\"\\s\", \"_\", txt)\n",
    "print(x)"
   ]
  },
  {
   "cell_type": "code",
   "execution_count": 17,
   "metadata": {
    "colab": {
     "base_uri": "https://localhost:8080/",
     "height": 34
    },
    "colab_type": "code",
    "id": "s024W7KuDk8U",
    "outputId": "87fcdbbc-ff7d-4d58-f867-591778f52137"
   },
   "outputs": [
    {
     "name": "stdout",
     "output_type": "stream",
     "text": [
      "Professional_Master Program in AI in Medicine\n"
     ]
    }
   ],
   "source": [
    "# control the number of replacements by specifying the count parameter\n",
    "x = re.sub(\"\\s\", \"_\", txt, 1)\n",
    "print(x)"
   ]
  }
 ],
 "metadata": {
  "colab": {
   "name": "regex_example.ipynb",
   "provenance": []
  },
  "kernelspec": {
   "display_name": "Python 3",
   "language": "python",
   "name": "python3"
  },
  "language_info": {
   "codemirror_mode": {
    "name": "ipython",
    "version": 3
   },
   "file_extension": ".py",
   "mimetype": "text/x-python",
   "name": "python",
   "nbconvert_exporter": "python",
   "pygments_lexer": "ipython3",
   "version": "3.7.4"
  }
 },
 "nbformat": 4,
 "nbformat_minor": 1
}
