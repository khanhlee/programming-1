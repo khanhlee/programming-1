{
 "cells": [
  {
   "cell_type": "markdown",
   "metadata": {
    "id": "1noSDU2CVzHo"
   },
   "source": [
    "### Python iterable tricks"
   ]
  },
  {
   "cell_type": "code",
   "execution_count": null,
   "metadata": {
    "colab": {
     "base_uri": "https://localhost:8080/",
     "height": 34
    },
    "id": "iWzWSzh5V33-",
    "outputId": "1718f3a8-44cb-4730-cf3b-b8c73611a2c6"
   },
   "outputs": [
    {
     "data": {
      "text/plain": [
       "[0, 2, 4, 6, 8]"
      ]
     },
     "execution_count": 1,
     "metadata": {
      "tags": []
     },
     "output_type": "execute_result"
    }
   ],
   "source": [
    "# Creating a sequence of numbers (zero to ten with skips)\n",
    "x = range(0,10,2)\n",
    "list(x)"
   ]
  },
  {
   "cell_type": "code",
   "execution_count": null,
   "metadata": {
    "id": "NnSuIlFtWOry"
   },
   "outputs": [],
   "source": [
    "# Summing a sequence of numbers (calculating the sum of zero to ten with skips)\n",
    "sum(x)"
   ]
  },
  {
   "cell_type": "code",
   "execution_count": null,
   "metadata": {
    "colab": {
     "base_uri": "https://localhost:8080/",
     "height": 34
    },
    "id": "afqEOpbxWbpD",
    "outputId": "8a0ea36d-166a-44cb-c465-a8174432e775"
   },
   "outputs": [
    {
     "data": {
      "text/plain": [
       "True"
      ]
     },
     "execution_count": 2,
     "metadata": {
      "tags": []
     },
     "output_type": "execute_result"
    }
   ],
   "source": [
    "# Checking whether any element in the sequence is Truthful (checking whether any elements between zero and ten with skips are even)\n",
    "any(a % 2==0 for a in range(0,10,2))"
   ]
  },
  {
   "cell_type": "code",
   "execution_count": null,
   "metadata": {
    "colab": {
     "base_uri": "https://localhost:8080/",
     "height": 34
    },
    "id": "5Ddp2kWiWrBm",
    "outputId": "c90db73e-415e-4403-8659-486472e0e8a5"
   },
   "outputs": [
    {
     "data": {
      "text/plain": [
       "['AI', ' in', ' Medicine']"
      ]
     },
     "execution_count": 3,
     "metadata": {
      "tags": []
     },
     "output_type": "execute_result"
    }
   ],
   "source": [
    "# Splitting a single string to list\n",
    "s = \"AI, in, Medicine\"\n",
    "s.split(\",\")"
   ]
  },
  {
   "cell_type": "code",
   "execution_count": null,
   "metadata": {
    "colab": {
     "base_uri": "https://localhost:8080/",
     "height": 34
    },
    "id": "ThRfGREuv7_k",
    "outputId": "c7d17e5b-4291-426a-cc6c-a4ea9f9e82a6"
   },
   "outputs": [
    {
     "data": {
      "text/plain": [
       "['AI', 'AI', 'AI', 'AI', 'AI', 'AI', 'AI', 'AI', 'AI', 'AI']"
      ]
     },
     "execution_count": 4,
     "metadata": {
      "tags": []
     },
     "output_type": "execute_result"
    }
   ],
   "source": [
    "# Initializing a list filled with some repetitive number\n",
    "['AI']* 10"
   ]
  },
  {
   "cell_type": "code",
   "execution_count": null,
   "metadata": {
    "colab": {
     "base_uri": "https://localhost:8080/",
     "height": 34
    },
    "id": "ngtGvaLQwJx3",
    "outputId": "b9bad532-612e-4667-e082-2ba4fae6013b"
   },
   "outputs": [
    {
     "data": {
      "text/plain": [
       "2"
      ]
     },
     "execution_count": 5,
     "metadata": {
      "tags": []
     },
     "output_type": "execute_result"
    }
   ],
   "source": [
    "# Finding the index of an item in a list\n",
    "a = [\"AI\", \"in\", \"Medicine\"]\n",
    "a.index(\"Medicine\")"
   ]
  },
  {
   "cell_type": "code",
   "execution_count": null,
   "metadata": {
    "colab": {
     "base_uri": "https://localhost:8080/",
     "height": 34
    },
    "id": "vYUTZQv4wdMQ",
    "outputId": "edfa310a-aacb-46e5-da89-f43e583c1ef1"
   },
   "outputs": [
    {
     "data": {
      "text/plain": [
       "3"
      ]
     },
     "execution_count": 7,
     "metadata": {
      "tags": []
     },
     "output_type": "execute_result"
    }
   ],
   "source": [
    "# Finding the index of the min/max item in an iterable\n",
    "a = [2, 3, 1, 5, 4]\n",
    "max(enumerate(a),key=lambda x: x[1])[0]"
   ]
  },
  {
   "cell_type": "code",
   "execution_count": 6,
   "metadata": {
    "colab": {
     "base_uri": "https://localhost:8080/",
     "height": 68
    },
    "id": "gv1h2mBQwo7P",
    "outputId": "874bbf89-cd2a-4b80-c48f-0d145fbe57b5"
   },
   "outputs": [
    {
     "name": "stdout",
     "output_type": "stream",
     "text": [
      "Remove at both:  AI in Medicine\n",
      "Remove at end:  //AI in Medicine\n",
      "Remove at start:  AI in Medicine//\n"
     ]
    }
   ],
   "source": [
    "# Removing useless characters on the end/start/both of your string\n",
    "name = \"//AI in Medicine//\"\n",
    "print('Remove at both: ', name.strip(\"/\"))\n",
    "print('Remove at end: ', name.rstrip(\"/\"))\n",
    "print('Remove at start: ', name.lstrip(\"/\"))"
   ]
  },
  {
   "cell_type": "markdown",
   "metadata": {
    "id": "l29hGx0VQFYO"
   },
   "source": [
    "### In-Place Swapping Of Two Numbers"
   ]
  },
  {
   "cell_type": "code",
   "execution_count": null,
   "metadata": {
    "colab": {
     "base_uri": "https://localhost:8080/",
     "height": 51
    },
    "id": "NLjlaMBRQKM5",
    "outputId": "e3153df2-e089-4aac-8f52-8f07543c1a47"
   },
   "outputs": [
    {
     "name": "stdout",
     "output_type": "stream",
     "text": [
      "10 20\n",
      "20 10\n"
     ]
    }
   ],
   "source": [
    "x, y = 10, 20\n",
    "print(x, y) \n",
    "x, y = y, x \n",
    "print(x, y)"
   ]
  },
  {
   "cell_type": "markdown",
   "metadata": {
    "id": "XPCg6Ql-Ls_h"
   },
   "source": [
    "### Reverse"
   ]
  },
  {
   "cell_type": "code",
   "execution_count": 3,
   "metadata": {
    "id": "rv1PCKv_Lurr"
   },
   "outputs": [],
   "source": [
    "a = \"!enicideM ni IA sdfdfd\"\n",
    "backward = a[::-1]"
   ]
  },
  {
   "cell_type": "code",
   "execution_count": 4,
   "metadata": {
    "colab": {
     "base_uri": "https://localhost:8080/",
     "height": 34
    },
    "id": "yDF5y_JtL1sI",
    "outputId": "291b739b-b1a8-4e8f-ddbc-420c34d948b4"
   },
   "outputs": [
    {
     "name": "stdout",
     "output_type": "stream",
     "text": [
      "dfdfds AI in Medicine!\n"
     ]
    }
   ],
   "source": [
    "print(backward)"
   ]
  },
  {
   "cell_type": "code",
   "execution_count": 5,
   "metadata": {
    "colab": {
     "base_uri": "https://localhost:8080/",
     "height": 34
    },
    "id": "A-HSEuoyzWZb",
    "outputId": "46aa3830-baca-448c-9067-ff5d3a3c6969"
   },
   "outputs": [
    {
     "data": {
      "text/plain": [
       "['Medicine', 'in', 'AI']"
      ]
     },
     "execution_count": 5,
     "metadata": {},
     "output_type": "execute_result"
    }
   ],
   "source": [
    "# Reversing list\n",
    "l = [\"AI\", \"in\", \"Medicine\"]\n",
    "l[::-1]"
   ]
  },
  {
   "cell_type": "markdown",
   "metadata": {
    "id": "oKyklu1XQUuW"
   },
   "source": [
    "### Create a single string from all the elements in list"
   ]
  },
  {
   "cell_type": "code",
   "execution_count": null,
   "metadata": {
    "colab": {
     "base_uri": "https://localhost:8080/",
     "height": 34
    },
    "id": "G9LYjVGAQYBa",
    "outputId": "7bcca9e2-40b8-46d1-b38c-f22a558d22f6"
   },
   "outputs": [
    {
     "name": "stdout",
     "output_type": "stream",
     "text": [
      "AI in Medicine\n"
     ]
    }
   ],
   "source": [
    "a = [\"AI\", \"in\", \"Medicine\"] \n",
    "print(\" \".join(a))"
   ]
  },
  {
   "cell_type": "markdown",
   "metadata": {
    "id": "U_BH89xBQuji"
   },
   "source": [
    "### Chaining Of Comparison Operators"
   ]
  },
  {
   "cell_type": "code",
   "execution_count": null,
   "metadata": {
    "colab": {
     "base_uri": "https://localhost:8080/",
     "height": 51
    },
    "id": "F-cWVAdJQwI0",
    "outputId": "1d5b9f2a-ac2a-4648-cb47-7170f9b55eb7"
   },
   "outputs": [
    {
     "name": "stdout",
     "output_type": "stream",
     "text": [
      "True\n",
      "False\n"
     ]
    }
   ],
   "source": [
    "n = 10\n",
    "result = 1 < n < 20\n",
    "print(result) \n",
    "result = 1 > n <= 9\n",
    "print(result)"
   ]
  },
  {
   "cell_type": "markdown",
   "metadata": {
    "id": "9G5dUVVNQ7Tn"
   },
   "source": [
    "### Print The File Path Of Imported Modules"
   ]
  },
  {
   "cell_type": "code",
   "execution_count": null,
   "metadata": {
    "colab": {
     "base_uri": "https://localhost:8080/",
     "height": 51
    },
    "id": "UWuJfhvQQ9n1",
    "outputId": "ee8b098e-745c-44d4-b151-fdb7b8b50ab0"
   },
   "outputs": [
    {
     "name": "stdout",
     "output_type": "stream",
     "text": [
      "<module 'os' from '/usr/lib/python3.6/os.py'>\n",
      "<module 'pandas' from '/usr/local/lib/python3.6/dist-packages/pandas/__init__.py'>\n"
     ]
    }
   ],
   "source": [
    "import os \n",
    "import pandas \n",
    "  \n",
    "print(os) \n",
    "print(pandas)"
   ]
  },
  {
   "cell_type": "markdown",
   "metadata": {
    "id": "oXYHpCY6RL4w"
   },
   "source": [
    "### Return Multiple Values From Functions"
   ]
  },
  {
   "cell_type": "code",
   "execution_count": null,
   "metadata": {
    "colab": {
     "base_uri": "https://localhost:8080/",
     "height": 34
    },
    "id": "67ktbwtXRK11",
    "outputId": "4695a777-90e3-48b5-b635-8dc0ef36ab3d"
   },
   "outputs": [
    {
     "name": "stdout",
     "output_type": "stream",
     "text": [
      "1 2 3 4\n"
     ]
    }
   ],
   "source": [
    "def x(): \n",
    "    return 1, 2, 3, 4\n",
    "a, b, c, d = x() \n",
    "\n",
    "print(a, b, c, d) "
   ]
  },
  {
   "cell_type": "markdown",
   "metadata": {
    "id": "3uU2m32jRZHL"
   },
   "source": [
    "### Find The Most Frequent Value In A List"
   ]
  },
  {
   "cell_type": "code",
   "execution_count": null,
   "metadata": {
    "id": "TPD21NjLRa73"
   },
   "outputs": [],
   "source": [
    "test = ['A', 'B', 'C', 'D', 'B', 'B', 'A', 'C', 'D', 'D', 'D'] \n",
    "print(max(set(test), key = test.count))"
   ]
  },
  {
   "cell_type": "markdown",
   "metadata": {
    "id": "9lKTk75bRy6G"
   },
   "source": [
    "### Check The Memory Usage Of An Object"
   ]
  },
  {
   "cell_type": "code",
   "execution_count": null,
   "metadata": {
    "colab": {
     "base_uri": "https://localhost:8080/",
     "height": 34
    },
    "id": "HyOtVaQpR0Y6",
    "outputId": "e150c0a3-3820-4279-b797-bfe858047e46"
   },
   "outputs": [
    {
     "name": "stdout",
     "output_type": "stream",
     "text": [
      "28\n"
     ]
    }
   ],
   "source": [
    "import sys \n",
    "x = 1\n",
    "print(sys.getsizeof(x)) "
   ]
  },
  {
   "cell_type": "markdown",
   "metadata": {
    "id": "W6e5aSKbSBXg"
   },
   "source": [
    "### Print string N times"
   ]
  },
  {
   "cell_type": "code",
   "execution_count": null,
   "metadata": {
    "colab": {
     "base_uri": "https://localhost:8080/",
     "height": 68
    },
    "id": "bEx6b6lqSDQ3",
    "outputId": "7bf8ad81-b464-48d6-ec8b-4ff07c7a7a79"
   },
   "outputs": [
    {
     "name": "stdout",
     "output_type": "stream",
     "text": [
      "AI in Medicine\n",
      "AI in Medicine\n",
      "\n"
     ]
    }
   ],
   "source": [
    "n = 2\n",
    "a = \"AI in Medicine\\n\"\n",
    "print(a * n) "
   ]
  },
  {
   "cell_type": "markdown",
   "metadata": {
    "id": "X7bxpNcaMarS"
   },
   "source": [
    "### Itertools"
   ]
  },
  {
   "cell_type": "code",
   "execution_count": null,
   "metadata": {
    "id": "NgIb4Xq0McV1"
   },
   "outputs": [],
   "source": [
    "c = [[1, 2], [3, 4], [5, 6]]\n",
    "# Let's convert this matrix to a 1 dimensional list.\n",
    "import itertools as it\n",
    "newlist = list(it.chain.from_iterable(c))"
   ]
  },
  {
   "cell_type": "code",
   "execution_count": null,
   "metadata": {
    "colab": {
     "base_uri": "https://localhost:8080/",
     "height": 34
    },
    "id": "xm1ea8k5MiLY",
    "outputId": "41e60d18-f794-4a37-f313-f0ed7a3e07c4"
   },
   "outputs": [
    {
     "data": {
      "text/plain": [
       "[1, 2, 3, 4, 5, 6]"
      ]
     },
     "execution_count": 20,
     "metadata": {
      "tags": []
     },
     "output_type": "execute_result"
    }
   ],
   "source": [
    "newlist"
   ]
  },
  {
   "cell_type": "markdown",
   "metadata": {
    "id": "BKfEfB07Mu1g"
   },
   "source": [
    "### Intelligent Unpacking"
   ]
  },
  {
   "cell_type": "code",
   "execution_count": 9,
   "metadata": {
    "id": "36bfue5kMwht"
   },
   "outputs": [],
   "source": [
    "a, *b, c = [1, 2, 3, 4, 5]"
   ]
  },
  {
   "cell_type": "code",
   "execution_count": 10,
   "metadata": {
    "colab": {
     "base_uri": "https://localhost:8080/",
     "height": 68
    },
    "id": "Jy9qqQpqM8kP",
    "outputId": "736b4dbd-c260-419a-9d36-f777e8acdf8c"
   },
   "outputs": [
    {
     "name": "stdout",
     "output_type": "stream",
     "text": [
      "1\n",
      "[2, 3, 4]\n",
      "5\n"
     ]
    }
   ],
   "source": [
    "print(a)\n",
    "print(b)\n",
    "print(c)"
   ]
  },
  {
   "cell_type": "markdown",
   "metadata": {
    "id": "wn6y5SmYNL6S"
   },
   "source": [
    "### Enumerate"
   ]
  },
  {
   "cell_type": "code",
   "execution_count": null,
   "metadata": {
    "id": "J1tOmTf6NNsF"
   },
   "outputs": [],
   "source": [
    "for i,w in enumerate(array):\n",
    "    print(i,w)"
   ]
  },
  {
   "cell_type": "markdown",
   "metadata": {
    "id": "zAzC0wzeNwsv"
   },
   "source": [
    "### next() iteration for generators"
   ]
  },
  {
   "cell_type": "code",
   "execution_count": null,
   "metadata": {
    "colab": {
     "base_uri": "https://localhost:8080/",
     "height": 68
    },
    "id": "U83aeZ0YOSrx",
    "outputId": "f0f8273a-f06d-404b-de58-87a579666880"
   },
   "outputs": [
    {
     "name": "stdout",
     "output_type": "stream",
     "text": [
      "0\n",
      "1\n",
      "4\n"
     ]
    }
   ],
   "source": [
    "g = (x ** 2 for x in range(10))\n",
    "print(next(g))\n",
    "print(next(g))\n",
    "print(next(g))"
   ]
  }
 ],
 "metadata": {
  "colab": {
   "name": "python_trick_programming_class.ipynb",
   "provenance": []
  },
  "kernelspec": {
   "display_name": "Python 3 (ipykernel)",
   "language": "python",
   "name": "python3"
  },
  "language_info": {
   "codemirror_mode": {
    "name": "ipython",
    "version": 3
   },
   "file_extension": ".py",
   "mimetype": "text/x-python",
   "name": "python",
   "nbconvert_exporter": "python",
   "pygments_lexer": "ipython3",
   "version": "3.9.7"
  }
 },
 "nbformat": 4,
 "nbformat_minor": 1
}
