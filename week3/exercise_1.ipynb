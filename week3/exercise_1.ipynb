{
 "cells": [
  {
   "cell_type": "markdown",
   "metadata": {
    "id": "1GQqqBXIbvRq"
   },
   "source": [
    "Student ID:\n",
    "\n",
    "Student Name:"
   ]
  },
  {
   "cell_type": "markdown",
   "metadata": {
    "id": "V75RM_LZaog8"
   },
   "source": [
    "# Question 1"
   ]
  },
  {
   "cell_type": "markdown",
   "metadata": {
    "id": "OpuU4i2Laog-"
   },
   "source": [
    "Sum up all elements in list"
   ]
  },
  {
   "cell_type": "code",
   "execution_count": 1,
   "metadata": {
    "id": "NYhz-cZPaohB"
   },
   "outputs": [],
   "source": [
    "q1 = [1,45,7,9,23,43,5,6,87,2,4,7,13,16,23,9,10]"
   ]
  },
  {
   "cell_type": "code",
   "execution_count": 2,
   "metadata": {
    "id": "84JBiTQIaohU"
   },
   "outputs": [
    {
     "name": "stdout",
     "output_type": "stream",
     "text": [
      "310\n"
     ]
    }
   ],
   "source": [
    "# Put your code here\n",
    "ans = 0\n",
    "for x in q1:\n",
    "    ans += x\n",
    "print(ans)"
   ]
  },
  {
   "cell_type": "code",
   "execution_count": 3,
   "metadata": {},
   "outputs": [
    {
     "data": {
      "text/plain": [
       "310"
      ]
     },
     "execution_count": 3,
     "metadata": {},
     "output_type": "execute_result"
    }
   ],
   "source": [
    "sum(q1)"
   ]
  },
  {
   "cell_type": "markdown",
   "metadata": {
    "id": "QBkVrLrkaohh"
   },
   "source": [
    "# Question 2"
   ]
  },
  {
   "cell_type": "markdown",
   "metadata": {
    "id": "qVay82vRaohj"
   },
   "source": [
    "Create a function that can help to calculate the BMI of a people according to weight and height"
   ]
  },
  {
   "cell_type": "code",
   "execution_count": 8,
   "metadata": {
    "id": "5ogx84XHaohm"
   },
   "outputs": [],
   "source": [
    "# Solution\n",
    "def bmi_calculation(weight, height):\n",
    "    # Put your code here\n",
    "    return weight/((height/100)**2)"
   ]
  },
  {
   "cell_type": "code",
   "execution_count": 9,
   "metadata": {
    "id": "4LYOkfH2aohu"
   },
   "outputs": [
    {
     "data": {
      "text/plain": [
       "21.107266435986162"
      ]
     },
     "execution_count": 9,
     "metadata": {},
     "output_type": "execute_result"
    }
   ],
   "source": [
    "# Test program\n",
    "bmi_calculation(61, 170)"
   ]
  },
  {
   "cell_type": "markdown",
   "metadata": {
    "id": "VQaftlH8aoh1"
   },
   "source": [
    "# Question 3"
   ]
  },
  {
   "cell_type": "markdown",
   "metadata": {
    "id": "1kbUbLb3aoh2"
   },
   "source": [
    "Show the characters at the odd position (1-3-5-7-9-...)"
   ]
  },
  {
   "cell_type": "code",
   "execution_count": 1,
   "metadata": {
    "id": "AA_SUWw4aoh4"
   },
   "outputs": [],
   "source": [
    "q3 = 'Artificial Intelligence in Medicine'"
   ]
  },
  {
   "cell_type": "code",
   "execution_count": 13,
   "metadata": {
    "id": "r0bmDjDhaoiD"
   },
   "outputs": [
    {
     "name": "stdout",
     "output_type": "stream",
     "text": [
      "r\n",
      "i\n",
      "i\n",
      "i\n",
      "l\n",
      "I\n",
      "t\n",
      "l\n",
      "i\n",
      "e\n",
      "c\n",
      " \n",
      "n\n",
      "M\n",
      "d\n",
      "c\n",
      "n\n"
     ]
    }
   ],
   "source": [
    "# Put your code here\n",
    "ans = 0\n",
    "for x in q3:\n",
    "    if (ans %2 ) == 1:\n",
    "        print(x)\n",
    "    ans += 1"
   ]
  },
  {
   "cell_type": "code",
   "execution_count": 19,
   "metadata": {},
   "outputs": [
    {
     "name": "stdout",
     "output_type": "stream",
     "text": [
      "r\n",
      "i\n",
      "i\n",
      "i\n",
      "l\n",
      "I\n",
      "t\n",
      "l\n",
      "i\n",
      "e\n",
      "c\n",
      " \n",
      "n\n",
      "M\n",
      "d\n",
      "c\n",
      "n\n"
     ]
    }
   ],
   "source": [
    "for i in range(len(q3)):\n",
    "    if i % 2 == 1:\n",
    "        print(q3[i])"
   ]
  },
  {
   "cell_type": "code",
   "execution_count": 22,
   "metadata": {},
   "outputs": [
    {
     "data": {
      "text/plain": [
       "['r',\n",
       " 'i',\n",
       " 'i',\n",
       " 'i',\n",
       " 'l',\n",
       " 'I',\n",
       " 't',\n",
       " 'l',\n",
       " 'i',\n",
       " 'e',\n",
       " 'c',\n",
       " ' ',\n",
       " 'n',\n",
       " 'M',\n",
       " 'd',\n",
       " 'c',\n",
       " 'n']"
      ]
     },
     "execution_count": 22,
     "metadata": {},
     "output_type": "execute_result"
    }
   ],
   "source": [
    "[q3[i] for i in range(1, len(q3), 2)]"
   ]
  },
  {
   "cell_type": "code",
   "execution_count": 2,
   "metadata": {},
   "outputs": [
    {
     "data": {
      "text/plain": [
       "'Atfca nelgnei eiie'"
      ]
     },
     "execution_count": 2,
     "metadata": {},
     "output_type": "execute_result"
    }
   ],
   "source": [
    "q3[0:35:2]"
   ]
  },
  {
   "cell_type": "code",
   "execution_count": 8,
   "metadata": {},
   "outputs": [
    {
     "data": {
      "text/plain": [
       "'Atfca nelgnei eiie'"
      ]
     },
     "execution_count": 8,
     "metadata": {},
     "output_type": "execute_result"
    }
   ],
   "source": [
    "q3[0::2]"
   ]
  },
  {
   "cell_type": "markdown",
   "metadata": {
    "id": "-sfsbFTMaoiL"
   },
   "source": [
    "# Question 4"
   ]
  },
  {
   "cell_type": "markdown",
   "metadata": {
    "id": "evO0lASLaoiM"
   },
   "source": [
    "List all items less than 5"
   ]
  },
  {
   "cell_type": "code",
   "execution_count": 15,
   "metadata": {
    "id": "RP3kgWpMaoiM"
   },
   "outputs": [],
   "source": [
    "q4 = [1,45,7,9,23,43,5,6,87,2,4,7,13,16,23,9,10]"
   ]
  },
  {
   "cell_type": "code",
   "execution_count": 16,
   "metadata": {
    "id": "tPE1JsJ7aoiR"
   },
   "outputs": [
    {
     "name": "stdout",
     "output_type": "stream",
     "text": [
      "1\n",
      "2\n",
      "4\n"
     ]
    }
   ],
   "source": [
    "# Put your code here\n",
    "for z in q4:\n",
    "    if(z < 5):\n",
    "        print(z)"
   ]
  },
  {
   "cell_type": "code",
   "execution_count": 23,
   "metadata": {},
   "outputs": [
    {
     "data": {
      "text/plain": [
       "[1, 2, 4]"
      ]
     },
     "execution_count": 23,
     "metadata": {},
     "output_type": "execute_result"
    }
   ],
   "source": [
    "[i for i in q4 if i < 5]"
   ]
  },
  {
   "cell_type": "markdown",
   "metadata": {
    "id": "cUVA31nUaoiU"
   },
   "source": [
    "# Question 5"
   ]
  },
  {
   "cell_type": "markdown",
   "metadata": {
    "id": "_pBFbf44aoiV"
   },
   "source": [
    "Display -20 to -1 using loop"
   ]
  },
  {
   "cell_type": "code",
   "execution_count": 17,
   "metadata": {
    "id": "VE_GIe7VaoiX"
   },
   "outputs": [
    {
     "name": "stdout",
     "output_type": "stream",
     "text": [
      "-20\n",
      "-19\n",
      "-18\n",
      "-17\n",
      "-16\n",
      "-15\n",
      "-14\n",
      "-13\n",
      "-12\n",
      "-11\n",
      "-10\n",
      "-9\n",
      "-8\n",
      "-7\n",
      "-6\n",
      "-5\n",
      "-4\n",
      "-3\n",
      "-2\n",
      "-1\n"
     ]
    }
   ],
   "source": [
    "# Put your code here\n",
    "j = -20\n",
    "while j < 0:\n",
    "    print(j)\n",
    "    j += 1"
   ]
  },
  {
   "cell_type": "code",
   "execution_count": 20,
   "metadata": {},
   "outputs": [
    {
     "name": "stdout",
     "output_type": "stream",
     "text": [
      "-20\n",
      "-19\n",
      "-18\n",
      "-17\n",
      "-16\n",
      "-15\n",
      "-14\n",
      "-13\n",
      "-12\n",
      "-11\n",
      "-10\n",
      "-9\n",
      "-8\n",
      "-7\n",
      "-6\n",
      "-5\n",
      "-4\n",
      "-3\n",
      "-2\n",
      "-1\n"
     ]
    }
   ],
   "source": [
    "for i in range(-20,0,1):\n",
    "    print(i)"
   ]
  },
  {
   "cell_type": "code",
   "execution_count": 24,
   "metadata": {},
   "outputs": [
    {
     "data": {
      "text/plain": [
       "[-20,\n",
       " -19,\n",
       " -18,\n",
       " -17,\n",
       " -16,\n",
       " -15,\n",
       " -14,\n",
       " -13,\n",
       " -12,\n",
       " -11,\n",
       " -10,\n",
       " -9,\n",
       " -8,\n",
       " -7,\n",
       " -6,\n",
       " -5,\n",
       " -4,\n",
       " -3,\n",
       " -2,\n",
       " -1]"
      ]
     },
     "execution_count": 24,
     "metadata": {},
     "output_type": "execute_result"
    }
   ],
   "source": [
    "[i for i in range(-20,0)]"
   ]
  }
 ],
 "metadata": {
  "colab": {
   "name": "exercise_1.ipynb",
   "provenance": []
  },
  "kernelspec": {
   "display_name": "Python 3",
   "language": "python",
   "name": "python3"
  },
  "language_info": {
   "codemirror_mode": {
    "name": "ipython",
    "version": 3
   },
   "file_extension": ".py",
   "mimetype": "text/x-python",
   "name": "python",
   "nbconvert_exporter": "python",
   "pygments_lexer": "ipython3",
   "version": "3.7.4"
  }
 },
 "nbformat": 4,
 "nbformat_minor": 1
}
