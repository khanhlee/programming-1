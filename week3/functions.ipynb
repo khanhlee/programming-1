{
 "cells": [
  {
   "cell_type": "markdown",
   "metadata": {},
   "source": [
    "## Built-in function"
   ]
  },
  {
   "cell_type": "code",
   "execution_count": 1,
   "metadata": {},
   "outputs": [
    {
     "name": "stdout",
     "output_type": "stream",
     "text": [
      "A\n"
     ]
    }
   ],
   "source": [
    "print('A')"
   ]
  },
  {
   "cell_type": "code",
   "execution_count": 2,
   "metadata": {},
   "outputs": [
    {
     "data": {
      "text/plain": [
       "str"
      ]
     },
     "execution_count": 2,
     "metadata": {},
     "output_type": "execute_result"
    }
   ],
   "source": [
    "a = 'A'\n",
    "type(a)"
   ]
  },
  {
   "cell_type": "markdown",
   "metadata": {},
   "source": [
    "## Create a function"
   ]
  },
  {
   "cell_type": "code",
   "execution_count": 7,
   "metadata": {},
   "outputs": [],
   "source": [
    "# Function without parameters\n",
    "def message():\n",
    "    print('Welcome to my class')"
   ]
  },
  {
   "cell_type": "code",
   "execution_count": 8,
   "metadata": {},
   "outputs": [
    {
     "name": "stdout",
     "output_type": "stream",
     "text": [
      "Welcome to my class\n"
     ]
    }
   ],
   "source": [
    "message()"
   ]
  },
  {
   "cell_type": "code",
   "execution_count": 5,
   "metadata": {
    "id": "hNPYjo2GJhhC"
   },
   "outputs": [],
   "source": [
    "# Function with parameter\n",
    "def student_evaluation(score):\n",
    "    if score > 90:\n",
    "        print('Good')\n",
    "    else:\n",
    "        print('Not Good')"
   ]
  },
  {
   "cell_type": "code",
   "execution_count": 6,
   "metadata": {
    "colab": {
     "base_uri": "https://localhost:8080/",
     "height": 68
    },
    "id": "ps5XWCnWJ8Ce",
    "outputId": "16afa50d-e128-4b1e-e7e2-e55976eaca30"
   },
   "outputs": [
    {
     "name": "stdout",
     "output_type": "stream",
     "text": [
      "Good\n",
      "Not Good\n",
      "Good\n"
     ]
    }
   ],
   "source": [
    "student_evaluation(100)\n",
    "student_evaluation(89)\n",
    "student_evaluation(91)"
   ]
  },
  {
   "cell_type": "markdown",
   "metadata": {
    "id": "93Nemj8SKc9Z"
   },
   "source": [
    "## Input is list argument"
   ]
  },
  {
   "cell_type": "code",
   "execution_count": 9,
   "metadata": {
    "id": "C_72L3hJKgmo"
   },
   "outputs": [],
   "source": [
    "def my_courses(courses):\n",
    "    for x in courses:\n",
    "        print(x)"
   ]
  },
  {
   "cell_type": "code",
   "execution_count": 10,
   "metadata": {
    "colab": {
     "base_uri": "https://localhost:8080/",
     "height": 68
    },
    "id": "eIYodFq5Kryi",
    "outputId": "239b9fcf-ab66-4ef6-f8ac-d1855a8ca355"
   },
   "outputs": [
    {
     "name": "stdout",
     "output_type": "stream",
     "text": [
      "AI\n",
      "Medicine\n",
      "Machine learning\n"
     ]
    }
   ],
   "source": [
    "my_courses(['AI','Medicine','Machine learning'])"
   ]
  },
  {
   "cell_type": "code",
   "execution_count": 13,
   "metadata": {
    "id": "0ZqvtHm_LSnx"
   },
   "outputs": [],
   "source": [
    "def my_calculator(x):\n",
    "    return x * x"
   ]
  },
  {
   "cell_type": "code",
   "execution_count": 14,
   "metadata": {
    "colab": {
     "base_uri": "https://localhost:8080/",
     "height": 34
    },
    "id": "0jz_abiQLg__",
    "outputId": "ddb783c2-e3de-4cd5-bf28-df2711be9110"
   },
   "outputs": [
    {
     "data": {
      "text/plain": [
       "25"
      ]
     },
     "execution_count": 14,
     "metadata": {},
     "output_type": "execute_result"
    }
   ],
   "source": [
    "my_calculator(5)"
   ]
  },
  {
   "cell_type": "markdown",
   "metadata": {
    "id": "1hIDS-d5LrXH"
   },
   "source": [
    "## Default argument"
   ]
  },
  {
   "cell_type": "code",
   "execution_count": 15,
   "metadata": {
    "id": "HKKIVL1vLtbS"
   },
   "outputs": [],
   "source": [
    "def my_function(x, y = 2):\n",
    "    return x ** y"
   ]
  },
  {
   "cell_type": "code",
   "execution_count": 16,
   "metadata": {
    "colab": {
     "base_uri": "https://localhost:8080/",
     "height": 34
    },
    "id": "8rG_inRZL0Zl",
    "outputId": "bc345a02-e992-4705-b247-858aa833c6a1"
   },
   "outputs": [
    {
     "data": {
      "text/plain": [
       "36"
      ]
     },
     "execution_count": 16,
     "metadata": {},
     "output_type": "execute_result"
    }
   ],
   "source": [
    "my_function(6)"
   ]
  },
  {
   "cell_type": "code",
   "execution_count": 17,
   "metadata": {},
   "outputs": [
    {
     "data": {
      "text/plain": [
       "216"
      ]
     },
     "execution_count": 17,
     "metadata": {},
     "output_type": "execute_result"
    }
   ],
   "source": [
    "my_function(6, 3)"
   ]
  },
  {
   "cell_type": "markdown",
   "metadata": {
    "id": "1u-b-vixMDBn"
   },
   "source": [
    "## Keyword argument"
   ]
  },
  {
   "cell_type": "code",
   "execution_count": 18,
   "metadata": {
    "id": "LkjeBmVFMFS-"
   },
   "outputs": [],
   "source": [
    "def student(firstname, lastname):\n",
    "    print(firstname, lastname)"
   ]
  },
  {
   "cell_type": "code",
   "execution_count": 19,
   "metadata": {
    "colab": {
     "base_uri": "https://localhost:8080/",
     "height": 34
    },
    "id": "uqLnXlc1MOT3",
    "outputId": "4505ab0f-283e-43aa-dcd5-9e7f26099a4d"
   },
   "outputs": [
    {
     "name": "stdout",
     "output_type": "stream",
     "text": [
      "Khanh Lee\n"
     ]
    }
   ],
   "source": [
    "student(firstname='Khanh', lastname='Lee')"
   ]
  },
  {
   "cell_type": "code",
   "execution_count": 20,
   "metadata": {
    "colab": {
     "base_uri": "https://localhost:8080/",
     "height": 34
    },
    "id": "0mXvjwk2MXJX",
    "outputId": "cb039d2b-ff68-44b8-9302-71a84cd6a483"
   },
   "outputs": [
    {
     "name": "stdout",
     "output_type": "stream",
     "text": [
      "Khanh Lee\n"
     ]
    }
   ],
   "source": [
    "student(lastname='Lee', firstname='Khanh')"
   ]
  },
  {
   "cell_type": "markdown",
   "metadata": {
    "id": "kqFOCKedMwSF"
   },
   "source": [
    "## *argv and **kwargv"
   ]
  },
  {
   "cell_type": "code",
   "execution_count": 21,
   "metadata": {
    "id": "xJHoNSyTM0sp"
   },
   "outputs": [],
   "source": [
    "# argv accepts any kinds of parameters\n",
    "def my_function(*argv):\n",
    "    for x in argv:\n",
    "        print(x)"
   ]
  },
  {
   "cell_type": "code",
   "execution_count": 22,
   "metadata": {
    "colab": {
     "base_uri": "https://localhost:8080/",
     "height": 51
    },
    "id": "ujsR0SBWM91B",
    "outputId": "0ac50c78-24a3-4b0e-e6f0-a92be00a3174"
   },
   "outputs": [
    {
     "name": "stdout",
     "output_type": "stream",
     "text": [
      "AI\n",
      "Medicine\n"
     ]
    }
   ],
   "source": [
    "my_function('AI','Medicine')"
   ]
  },
  {
   "cell_type": "code",
   "execution_count": 23,
   "metadata": {
    "colab": {
     "base_uri": "https://localhost:8080/",
     "height": 85
    },
    "id": "aWEum_svNCVw",
    "outputId": "08effbc2-3643-4053-c9c1-2af112784457"
   },
   "outputs": [
    {
     "name": "stdout",
     "output_type": "stream",
     "text": [
      "AI\n",
      "Medicine\n",
      "Machine learning\n",
      "Deep learning\n"
     ]
    }
   ],
   "source": [
    "my_function('AI','Medicine','Machine learning','Deep learning')"
   ]
  },
  {
   "cell_type": "code",
   "execution_count": 24,
   "metadata": {
    "id": "xLbWK1peNNkm"
   },
   "outputs": [],
   "source": [
    "def my_function(**kwargv):\n",
    "    for key, value in kwargv.items():\n",
    "        print(key, value)"
   ]
  },
  {
   "cell_type": "code",
   "execution_count": 25,
   "metadata": {
    "colab": {
     "base_uri": "https://localhost:8080/",
     "height": 68
    },
    "id": "2h5jtQDMNZAW",
    "outputId": "c398fd15-bb9e-4148-a8fe-e5c74143c939"
   },
   "outputs": [
    {
     "name": "stdout",
     "output_type": "stream",
     "text": [
      "first AI\n",
      "mid in\n",
      "last Medicine\n"
     ]
    }
   ],
   "source": [
    "my_function(first='AI', mid='in', last='Medicine')"
   ]
  },
  {
   "cell_type": "markdown",
   "metadata": {
    "id": "Oqh7gyweNypO"
   },
   "source": [
    "## Lambda"
   ]
  },
  {
   "cell_type": "code",
   "execution_count": 1,
   "metadata": {
    "id": "K6EzaaYnOFZP"
   },
   "outputs": [],
   "source": [
    "# The traditional method for function:\n",
    "def double(x):\n",
    "    return x * 2"
   ]
  },
  {
   "cell_type": "code",
   "execution_count": 2,
   "metadata": {
    "colab": {
     "base_uri": "https://localhost:8080/",
     "height": 34
    },
    "id": "Ne6xbf7ROSv3",
    "outputId": "32127390-f67e-4cca-829e-a3aaa9b6ee2f"
   },
   "outputs": [
    {
     "data": {
      "text/plain": [
       "16"
      ]
     },
     "execution_count": 2,
     "metadata": {},
     "output_type": "execute_result"
    }
   ],
   "source": [
    "double(8)"
   ]
  },
  {
   "cell_type": "code",
   "execution_count": 3,
   "metadata": {
    "id": "K53uD7lnN0BS"
   },
   "outputs": [],
   "source": [
    "# Use lambda to replace 'def'\n",
    "x = lambda a : a * 2"
   ]
  },
  {
   "cell_type": "code",
   "execution_count": 6,
   "metadata": {
    "colab": {
     "base_uri": "https://localhost:8080/",
     "height": 34
    },
    "id": "lLdGzPS5OANp",
    "outputId": "03336dce-927c-4ddd-dbe6-bb62c1b68d81"
   },
   "outputs": [
    {
     "data": {
      "text/plain": [
       "16"
      ]
     },
     "execution_count": 6,
     "metadata": {},
     "output_type": "execute_result"
    }
   ],
   "source": [
    "x(8)"
   ]
  },
  {
   "cell_type": "code",
   "execution_count": 8,
   "metadata": {
    "id": "YQPGa3tdOdAg"
   },
   "outputs": [],
   "source": [
    "# Lambda in function\n",
    "def power(n):\n",
    "    return lambda a : a ** n"
   ]
  },
  {
   "cell_type": "code",
   "execution_count": 9,
   "metadata": {
    "colab": {
     "base_uri": "https://localhost:8080/",
     "height": 34
    },
    "id": "xyZrD7VMOk_n",
    "outputId": "6667e1bd-a0db-4bf9-e731-ea6bc753b082"
   },
   "outputs": [
    {
     "data": {
      "text/plain": [
       "64"
      ]
     },
     "execution_count": 9,
     "metadata": {},
     "output_type": "execute_result"
    }
   ],
   "source": [
    "power(2)(8)"
   ]
  },
  {
   "cell_type": "code",
   "execution_count": 10,
   "metadata": {
    "colab": {
     "base_uri": "https://localhost:8080/",
     "height": 34
    },
    "id": "bqNKBg8wOzBA",
    "outputId": "264cd1d5-1301-4af3-da2f-188f485bdaa3"
   },
   "outputs": [
    {
     "name": "stdout",
     "output_type": "stream",
     "text": [
      "9\n"
     ]
    }
   ],
   "source": [
    "# Lambda with multiple arguments\n",
    "x = lambda a, b, c : a + b + c\n",
    "print(x(2,3, 4))"
   ]
  },
  {
   "cell_type": "markdown",
   "metadata": {
    "id": "M4Mgo4upPEmo"
   },
   "source": [
    "## Local Variables and Global Variables"
   ]
  },
  {
   "cell_type": "code",
   "execution_count": 11,
   "metadata": {
    "id": "u9WIKvFuPLLa"
   },
   "outputs": [],
   "source": [
    "def my_function():\n",
    "    print(s)"
   ]
  },
  {
   "cell_type": "code",
   "execution_count": 12,
   "metadata": {
    "colab": {
     "base_uri": "https://localhost:8080/",
     "height": 34
    },
    "id": "hjmfam4BPSYa",
    "outputId": "af2962fc-1c53-4000-e199-2c36eb236cc6"
   },
   "outputs": [
    {
     "name": "stdout",
     "output_type": "stream",
     "text": [
      "AI in Medicine\n"
     ]
    }
   ],
   "source": [
    "# global variables\n",
    "s = 'AI in Medicine'\n",
    "my_function()"
   ]
  },
  {
   "cell_type": "code",
   "execution_count": 13,
   "metadata": {
    "id": "usaSRv53PfE6"
   },
   "outputs": [],
   "source": [
    "# Local variables\n",
    "def my_function():\n",
    "    s = 'AI'\n",
    "    print(s)"
   ]
  },
  {
   "cell_type": "code",
   "execution_count": 14,
   "metadata": {
    "colab": {
     "base_uri": "https://localhost:8080/",
     "height": 34
    },
    "id": "BdoyEFT2PlnL",
    "outputId": "213c3ffd-dec3-47bd-cb8b-663a41ea76f6"
   },
   "outputs": [
    {
     "name": "stdout",
     "output_type": "stream",
     "text": [
      "AI\n"
     ]
    }
   ],
   "source": [
    "my_function()"
   ]
  },
  {
   "cell_type": "code",
   "execution_count": 15,
   "metadata": {
    "id": "0SBeuSUyPyoo"
   },
   "outputs": [],
   "source": [
    "# Cannot call a local variable from outside\n",
    "def my_function_1():\n",
    "    temp = 'a'\n",
    "    return temp"
   ]
  },
  {
   "cell_type": "code",
   "execution_count": 16,
   "metadata": {
    "colab": {
     "base_uri": "https://localhost:8080/",
     "height": 164
    },
    "id": "J6FizTb9P4W5",
    "outputId": "0020529b-633a-45b8-eea7-94d523de94d1"
   },
   "outputs": [
    {
     "ename": "NameError",
     "evalue": "name 'temp' is not defined",
     "output_type": "error",
     "traceback": [
      "\u001b[1;31m---------------------------------------------------------------------------\u001b[0m",
      "\u001b[1;31mNameError\u001b[0m                                 Traceback (most recent call last)",
      "\u001b[1;32m~\\AppData\\Local\\Temp/ipykernel_17292/1060463113.py\u001b[0m in \u001b[0;36m<module>\u001b[1;34m\u001b[0m\n\u001b[1;32m----> 1\u001b[1;33m \u001b[0mprint\u001b[0m\u001b[1;33m(\u001b[0m\u001b[0mtemp\u001b[0m\u001b[1;33m)\u001b[0m\u001b[1;33m\u001b[0m\u001b[1;33m\u001b[0m\u001b[0m\n\u001b[0m",
      "\u001b[1;31mNameError\u001b[0m: name 'temp' is not defined"
     ]
    }
   ],
   "source": [
    "print(temp)"
   ]
  }
 ],
 "metadata": {
  "colab": {
   "name": "functions.ipynb",
   "provenance": []
  },
  "kernelspec": {
   "display_name": "Python 3 (ipykernel)",
   "language": "python",
   "name": "python3"
  },
  "language_info": {
   "codemirror_mode": {
    "name": "ipython",
    "version": 3
   },
   "file_extension": ".py",
   "mimetype": "text/x-python",
   "name": "python",
   "nbconvert_exporter": "python",
   "pygments_lexer": "ipython3",
   "version": "3.9.7"
  }
 },
 "nbformat": 4,
 "nbformat_minor": 1
}
