{
 "cells": [
  {
   "cell_type": "markdown",
   "metadata": {
    "id": "1GQqqBXIbvRq"
   },
   "source": [
    "Student ID: \n",
    "\n",
    "Student Name: "
   ]
  },
  {
   "cell_type": "markdown",
   "metadata": {
    "id": "V75RM_LZaog8"
   },
   "source": [
    "# Question 1"
   ]
  },
  {
   "cell_type": "markdown",
   "metadata": {
    "id": "OpuU4i2Laog-"
   },
   "source": [
    "Sum up all elements in list"
   ]
  },
  {
   "cell_type": "code",
   "execution_count": 1,
   "metadata": {
    "id": "NYhz-cZPaohB"
   },
   "outputs": [],
   "source": [
    "q1 = [1,45,7,9,23,43,5,6,87,2,4,7,13,16,23,9,10]"
   ]
  },
  {
   "cell_type": "code",
   "execution_count": 2,
   "metadata": {},
   "outputs": [
    {
     "name": "stdout",
     "output_type": "stream",
     "text": [
      "310\n"
     ]
    }
   ],
   "source": [
    "# 1st solution\n",
    "ans = 0\n",
    "for x in q1:\n",
    "    ans += x\n",
    "print(ans)"
   ]
  },
  {
   "cell_type": "code",
   "execution_count": 3,
   "metadata": {
    "id": "84JBiTQIaohU",
    "outputId": "be71d452-8fd0-4efc-e6bf-74353046f09a"
   },
   "outputs": [
    {
     "data": {
      "text/plain": [
       "310"
      ]
     },
     "execution_count": 3,
     "metadata": {},
     "output_type": "execute_result"
    }
   ],
   "source": [
    "# 2nd solution\n",
    "sum(q1)"
   ]
  },
  {
   "cell_type": "markdown",
   "metadata": {
    "id": "QBkVrLrkaohh"
   },
   "source": [
    "# Question 2"
   ]
  },
  {
   "cell_type": "markdown",
   "metadata": {
    "id": "qVay82vRaohj"
   },
   "source": [
    "Create a function that can help to calculate the BMI of a people according to weight and height"
   ]
  },
  {
   "cell_type": "code",
   "execution_count": 4,
   "metadata": {
    "id": "5ogx84XHaohm"
   },
   "outputs": [],
   "source": [
    "# Solution\n",
    "def bmi_calculation(weight, height):\n",
    "    # Put your code here\n",
    "    bmi = weight/(height/100)**2\n",
    "    return bmi"
   ]
  },
  {
   "cell_type": "code",
   "execution_count": 5,
   "metadata": {
    "id": "4LYOkfH2aohu",
    "outputId": "3da33294-bf76-4196-d5fe-6e840db1ddd8"
   },
   "outputs": [
    {
     "data": {
      "text/plain": [
       "21.107266435986162"
      ]
     },
     "execution_count": 5,
     "metadata": {},
     "output_type": "execute_result"
    }
   ],
   "source": [
    "# Test program\n",
    "bmi_calculation(61, 170)"
   ]
  },
  {
   "cell_type": "markdown",
   "metadata": {
    "id": "VQaftlH8aoh1"
   },
   "source": [
    "# Question 3"
   ]
  },
  {
   "cell_type": "markdown",
   "metadata": {
    "id": "1kbUbLb3aoh2"
   },
   "source": [
    "Show the characters at the odd position (1-3-5-7-9-...)"
   ]
  },
  {
   "cell_type": "raw",
   "metadata": {
    "id": "66LqEgVHWwx8"
   },
   "source": [
    "Expected results:\n",
    "r i i i l ..."
   ]
  },
  {
   "cell_type": "code",
   "execution_count": null,
   "metadata": {
    "id": "AA_SUWw4aoh4"
   },
   "outputs": [],
   "source": [
    "q3 = 'Artificial Intelligence in Medicine'"
   ]
  },
  {
   "cell_type": "code",
   "execution_count": null,
   "metadata": {
    "id": "r0bmDjDhaoiD",
    "outputId": "9020f0f5-a597-4e1d-ab1d-b1b5b446a2af"
   },
   "outputs": [
    {
     "data": {
      "text/plain": [
       "['r',\n",
       " 'i',\n",
       " 'i',\n",
       " 'i',\n",
       " 'l',\n",
       " 'I',\n",
       " 't',\n",
       " 'l',\n",
       " 'i',\n",
       " 'e',\n",
       " 'c',\n",
       " ' ',\n",
       " 'n',\n",
       " 'M',\n",
       " 'd',\n",
       " 'c',\n",
       " 'n']"
      ]
     },
     "execution_count": 6,
     "metadata": {},
     "output_type": "execute_result"
    }
   ],
   "source": [
    "# Put your code here\n",
    "def take_odd(sentence):\n",
    "    a = list(sentence)\n",
    "    odd = [char for x,char in enumerate(a) if x%2 != 0]\n",
    "    return odd\n",
    "take_odd(q3)\n"
   ]
  },
  {
   "cell_type": "markdown",
   "metadata": {
    "id": "-sfsbFTMaoiL"
   },
   "source": [
    "# Question 4"
   ]
  },
  {
   "cell_type": "markdown",
   "metadata": {
    "id": "evO0lASLaoiM"
   },
   "source": [
    "List all items less than 5"
   ]
  },
  {
   "cell_type": "raw",
   "metadata": {
    "id": "Ha7oMhJFWwyB"
   },
   "source": [
    "Expected results: [1, 2, 4]"
   ]
  },
  {
   "cell_type": "code",
   "execution_count": 6,
   "metadata": {
    "id": "RP3kgWpMaoiM"
   },
   "outputs": [],
   "source": [
    "q4 = [1,45,7,9,23,43,5,6,87,2,4,7,13,16,23,9,10]"
   ]
  },
  {
   "cell_type": "code",
   "execution_count": 7,
   "metadata": {
    "id": "tPE1JsJ7aoiR",
    "outputId": "a27bafc1-667c-4e23-880e-cbb0a00d5cfb"
   },
   "outputs": [
    {
     "name": "stdout",
     "output_type": "stream",
     "text": [
      "[1, 2, 4]\n"
     ]
    }
   ],
   "source": [
    "# 1st solution\n",
    "less_5 = [num for num in q4 if num<5]\n",
    "print(less_5)"
   ]
  },
  {
   "cell_type": "markdown",
   "metadata": {
    "id": "cUVA31nUaoiU"
   },
   "source": [
    "# Question 5"
   ]
  },
  {
   "cell_type": "markdown",
   "metadata": {
    "id": "_pBFbf44aoiV"
   },
   "source": [
    "Display -20 to -1 using loop"
   ]
  },
  {
   "cell_type": "raw",
   "metadata": {
    "id": "vaQb9cWmWwyI"
   },
   "source": [
    "Expected results:\n",
    "-20\n",
    "-19\n",
    "-18\n",
    "...\n",
    "-1"
   ]
  },
  {
   "cell_type": "code",
   "execution_count": null,
   "metadata": {
    "id": "vYLIrQ7YWwyK",
    "outputId": "b0662d92-e82b-453b-b564-a629245e2bbd"
   },
   "outputs": [
    {
     "name": "stdout",
     "output_type": "stream",
     "text": [
      "-20\n",
      "-19\n",
      "-18\n",
      "-17\n",
      "-16\n",
      "-15\n",
      "-14\n",
      "-13\n",
      "-12\n",
      "-11\n",
      "-10\n",
      "-9\n",
      "-8\n",
      "-7\n",
      "-6\n",
      "-5\n",
      "-4\n",
      "-3\n",
      "-2\n",
      "-1\n"
     ]
    }
   ],
   "source": [
    "# Solution\n",
    "for i in range(-20,0):\n",
    "    print(i)"
   ]
  }
 ],
 "metadata": {
  "colab": {
   "name": "homework_1_evelyn.ipynb",
   "provenance": []
  },
  "kernelspec": {
   "display_name": "Python 3 (ipykernel)",
   "language": "python",
   "name": "python3"
  },
  "language_info": {
   "codemirror_mode": {
    "name": "ipython",
    "version": 3
   },
   "file_extension": ".py",
   "mimetype": "text/x-python",
   "name": "python",
   "nbconvert_exporter": "python",
   "pygments_lexer": "ipython3",
   "version": "3.9.7"
  }
 },
 "nbformat": 4,
 "nbformat_minor": 1
}
